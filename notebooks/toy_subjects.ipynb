{
 "cells": [
  {
   "cell_type": "code",
   "execution_count": 1,
   "id": "initial_id",
   "metadata": {},
   "outputs": [],
   "source": [
    "# Toy Subjects"
   ]
  },
  {
   "cell_type": "code",
   "execution_count": 5,
   "id": "30eaa1ab-2150-45a6-adfd-911d64881b0a",
   "metadata": {},
   "outputs": [],
   "source": [
    "from typing import List\n",
    "\n",
    "from debugging_framework.benchmark.program import BenchmarkProgram\n",
    "\n",
    "from debugging_benchmark.calculator.calculator import CalculatorBenchmarkRepository\n",
    "from debugging_benchmark.middle.middle import MiddleBenchmarkRepository\n",
    "from debugging_benchmark.expression.expression import ExpressionBenchmarkRepository\n",
    "from debugging_benchmark.markup.markup import MarkupBenchmarkRepository"
   ]
  },
  {
   "cell_type": "code",
   "execution_count": 6,
   "id": "39bd81de-15eb-4e95-b1bd-a1233d68645e",
   "metadata": {},
   "outputs": [],
   "source": [
    "## Accessing Params"
   ]
  },
  {
   "cell_type": "code",
   "execution_count": 8,
   "id": "6ab49fce-40b4-4d73-8bf0-91997c4ee8a8",
   "metadata": {},
   "outputs": [],
   "source": [
    "repo_subjects: List[BenchmarkProgram] = MiddleBenchmarkRepository().build()\n",
    "subject: BenchmarkProgram = repo_subjects[0]"
   ]
  },
  {
   "cell_type": "code",
   "execution_count": 9,
   "id": "2a319444-1526-4869-a866-b5bf39f6d3ff",
   "metadata": {},
   "outputs": [
    {
     "data": {
      "text/plain": [
       "BenchmarkProgram(middle)"
      ]
     },
     "execution_count": 9,
     "metadata": {},
     "output_type": "execute_result"
    }
   ],
   "source": [
    "subject"
   ]
  },
  {
   "cell_type": "code",
   "execution_count": 13,
   "id": "ae7121e8-4f5f-4b2f-8493-6b7f1dbc8ee1",
   "metadata": {},
   "outputs": [
    {
     "data": {
      "text/plain": [
       "['1 2 3', '3 2 1']"
      ]
     },
     "execution_count": 13,
     "metadata": {},
     "output_type": "execute_result"
    }
   ],
   "source": [
    "subject.get_passing_inputs()"
   ]
  },
  {
   "cell_type": "code",
   "execution_count": 14,
   "id": "ef52a513-f96b-4ddb-9144-6d96dfa5659e",
   "metadata": {},
   "outputs": [],
   "source": [
    "oracle = subject.get_oracle()\n",
    "oracle(\"1 2 3\")"
   ]
  },
  {
   "cell_type": "code",
   "execution_count": 22,
   "id": "55b1b00d-9f98-49ec-8aaf-0a97d1212a77",
   "metadata": {},
   "outputs": [
    {
     "name": "stdout",
     "output_type": "stream",
     "text": [
      "1 2 3 (<OracleResult.PASSING: 'PASSING'>, None)\n",
      "3 2 1 (<OracleResult.PASSING: 'PASSING'>, None)\n"
     ]
    }
   ],
   "source": [
    "for inp in subject.get_passing_inputs():\n",
    "    print(inp, oracle(inp))"
   ]
  },
  {
   "cell_type": "markdown",
   "id": "56765993-c5a2-4f4b-a0cb-b842a1b83bd8",
   "metadata": {},
   "source": [
    "### Fuzzing:"
   ]
  },
  {
   "cell_type": "code",
   "execution_count": 23,
   "id": "7dbdc6df-6de6-401a-a90d-62917043dea6",
   "metadata": {},
   "outputs": [],
   "source": [
    "from debugging_framework.fuzzingbook.fuzzer import GrammarFuzzer\n",
    "\n",
    "grammar = subject.get_grammar()\n",
    "fuzzer = GrammarFuzzer(grammar)"
   ]
  },
  {
   "cell_type": "code",
   "execution_count": 41,
   "id": "c8469d79-e3ad-4af2-9495-62c6db3fb5a8",
   "metadata": {},
   "outputs": [
    {
     "name": "stdout",
     "output_type": "stream",
     "text": [
      "3 353 -171 (<OracleResult.PASSING: 'PASSING'>, None)\n",
      "-2 9 8 (<OracleResult.PASSING: 'PASSING'>, None)\n",
      "77 93 -619 (<OracleResult.PASSING: 'PASSING'>, None)\n",
      "16 -5 -77 (<OracleResult.PASSING: 'PASSING'>, None)\n",
      "-70 1 -7351 (<OracleResult.PASSING: 'PASSING'>, None)\n",
      "736 1 499966 (<OracleResult.PASSING: 'PASSING'>, None)\n",
      "-1598115 34 -5 (<OracleResult.PASSING: 'PASSING'>, None)\n",
      "-20 7 -3958 (<OracleResult.PASSING: 'PASSING'>, None)\n",
      "-58192 12 -085 (<OracleResult.PASSING: 'PASSING'>, None)\n",
      "-1 -6 7 (<OracleResult.PASSING: 'PASSING'>, None)\n"
     ]
    }
   ],
   "source": [
    "for _ in range(10):\n",
    "    inp = fuzzer.fuzz()\n",
    "    print(inp, oracle(inp))"
   ]
  },
  {
   "cell_type": "markdown",
   "id": "882419ad-f5cd-4624-9d67-81d0c65a4240",
   "metadata": {},
   "source": [
    "## More than one Program"
   ]
  },
  {
   "cell_type": "code",
   "execution_count": 42,
   "id": "1d5a10ea-3b80-41b4-a066-f83aa621fb34",
   "metadata": {},
   "outputs": [],
   "source": [
    "repos = [\n",
    "    CalculatorBenchmarkRepository(),\n",
    "    MiddleBenchmarkRepository(),\n",
    "    ExpressionBenchmarkRepository(),\n",
    "    MarkupBenchmarkRepository(),\n",
    "]"
   ]
  },
  {
   "cell_type": "code",
   "execution_count": 44,
   "id": "366afedf-1147-4215-be8f-8962e75cb039",
   "metadata": {},
   "outputs": [],
   "source": [
    "subjects = []\n",
    "for repo in repos:\n",
    "    for prog in repo.build():\n",
    "        subjects.append(prog)"
   ]
  },
  {
   "cell_type": "code",
   "execution_count": 45,
   "id": "59e041a7-1cd9-4625-acdd-5c8e6582d73f",
   "metadata": {},
   "outputs": [
    {
     "data": {
      "text/plain": [
       "[CalculatorCalculator_1,\n",
       " BenchmarkProgram(middle),\n",
       " BenchmarkProgram(expression),\n",
       " BenchmarkProgram(markup)]"
      ]
     },
     "execution_count": 45,
     "metadata": {},
     "output_type": "execute_result"
    }
   ],
   "source": [
    "subjects"
   ]
  },
  {
   "cell_type": "code",
   "execution_count": null,
   "id": "6685ef53-bd28-405c-ac2a-e258ae64e301",
   "metadata": {},
   "outputs": [],
   "source": []
  }
 ],
 "metadata": {
  "kernelspec": {
   "display_name": "Python 3 (ipykernel)",
   "language": "python",
   "name": "python3"
  },
  "language_info": {
   "codemirror_mode": {
    "name": "ipython",
    "version": 3
   },
   "file_extension": ".py",
   "mimetype": "text/x-python",
   "name": "python",
   "nbconvert_exporter": "python",
   "pygments_lexer": "ipython3",
   "version": "3.10.9"
  }
 },
 "nbformat": 4,
 "nbformat_minor": 5
}
