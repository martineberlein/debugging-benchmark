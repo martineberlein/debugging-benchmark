{
 "cells": [
  {
   "cell_type": "markdown",
   "id": "24792eef-33c8-4025-9e01-594530ee9409",
   "metadata": {},
   "source": [
    "# Tests4Py"
   ]
  },
  {
   "cell_type": "code",
   "execution_count": 1,
   "id": "520ac9af-0b8c-4ff3-99c3-8b06b2b0f621",
   "metadata": {},
   "outputs": [
    {
     "name": "stderr",
     "output_type": "stream",
     "text": [
      "tests4py :: INFO     :: Loading projects\n"
     ]
    }
   ],
   "source": [
    "from tests4py.api.logging import deactivate, debug\n",
    "deactivate()\n",
    "#debug()"
   ]
  },
  {
   "cell_type": "code",
   "execution_count": 2,
   "id": "b22f4e82-ce83-48ec-b640-b5efca77c86a",
   "metadata": {},
   "outputs": [],
   "source": [
    "from debugging_benchmark.tests4py_benchmark.repository import (\n",
    "    #CalculatorBenchmarkRepository,\n",
    "    #MarkUpBenchmarkRepository, \n",
    "    #ExpressionBenchmarkRepository,\n",
    "    #MiddleBenchmarkRepository,\n",
    "    #TheFuckBenchmarkRepository,\n",
    "    PysnooperBenchmarkRepository,\n",
    "    CookieCutterBenchmarkRepository,\n",
    ")"
   ]
  },
  {
   "cell_type": "code",
   "execution_count": 3,
   "id": "f21c4f8c-b77a-4fa4-a527-32822f2d3fa7",
   "metadata": {},
   "outputs": [],
   "source": [
    "repos = [\n",
    "    #CalculatorBenchmarkRepository(),\n",
    "    #ExpressionBenchmarkRepository(),\n",
    "    #MiddleBenchmarkRepository(),\n",
    "    #MarkUpBenchmarkRepository(),\n",
    "    PysnooperBenchmarkRepository(),\n",
    "    CookieCutterBenchmarkRepository(),\n",
    "]"
   ]
  },
  {
   "cell_type": "code",
   "execution_count": 4,
   "id": "ac83321e-1fcf-404f-9ea1-1ef734b81710",
   "metadata": {},
   "outputs": [],
   "source": [
    "repos = [\n",
    "    PysnooperBenchmarkRepository(),\n",
    "    CookieCutterBenchmarkRepository(),\n",
    "]"
   ]
  },
  {
   "cell_type": "code",
   "execution_count": 5,
   "id": "35336869-1c3d-464d-9c45-9cf20ad330be",
   "metadata": {},
   "outputs": [],
   "source": [
    "from typing import List\n",
    "from debugging_framework.benchmark.program import BenchmarkProgram\n",
    "\n",
    "programs: List[BenchmarkProgram] = []\n",
    "List[BenchmarkProgram]\n",
    "for repo in repos:\n",
    "    tmp: List[BenchmarkProgram] = repo.build()\n",
    "    for prog in tmp:\n",
    "        programs.append(prog)"
   ]
  },
  {
   "cell_type": "code",
   "execution_count": 6,
   "id": "4947cce4-e3e6-43d1-b383-871351eb8090",
   "metadata": {},
   "outputs": [
    {
     "data": {
      "text/plain": [
       "[Tests4PyBenchmarkProgram(pysnooper_2),\n",
       " Tests4PyBenchmarkProgram(pysnooper_3),\n",
       " Tests4PyBenchmarkProgram(cookiecutter_2),\n",
       " Tests4PyBenchmarkProgram(cookiecutter_3),\n",
       " Tests4PyBenchmarkProgram(cookiecutter_4)]"
      ]
     },
     "execution_count": 6,
     "metadata": {},
     "output_type": "execute_result"
    }
   ],
   "source": [
    "# Display all benchmark programs\n",
    "programs"
   ]
  },
  {
   "cell_type": "markdown",
   "id": "ec522358-4ddd-4cc9-940b-6b66c41e852c",
   "metadata": {},
   "source": [
    "## Verify Build"
   ]
  },
  {
   "cell_type": "code",
   "execution_count": 7,
   "id": "8ee488d8-8dd3-48cc-a0be-582894f76e86",
   "metadata": {},
   "outputs": [],
   "source": [
    "# Check for first Program"
   ]
  },
  {
   "cell_type": "code",
   "execution_count": 8,
   "id": "63e84650-267b-47c6-907e-70a8931e07ff",
   "metadata": {},
   "outputs": [],
   "source": [
    "program = programs[0]"
   ]
  },
  {
   "cell_type": "code",
   "execution_count": 9,
   "id": "3bbebc32-2f4c-44b0-98f5-02f978449dca",
   "metadata": {},
   "outputs": [
    {
     "data": {
      "text/plain": [
       "{'<start>': ['<options>'],\n",
       " '<options>': [' ', '<flag><op>'],\n",
       " '<flag>': ['<overwrite><thread_info>'],\n",
       " '<op>': ['<output><depth><prefix><watch><custom_repr>'],\n",
       " '<sep>': [' ', '\\n'],\n",
       " '<output>': ['-o<sep>', '-o<path><sep>', '-o<sep><path><sep>', ''],\n",
       " '<depth>': ['-d<number><sep>',\n",
       "  '-d<sep><number><sep>',\n",
       "  '-d=<number><sep>',\n",
       "  ''],\n",
       " '<prefix>': ['-p<str_ascii><sep>',\n",
       "  '-p<sep><str_ascii><sep>',\n",
       "  '-p=<str_ascii><sep>',\n",
       "  ''],\n",
       " '<watch>': ['-w<variable_list><sep>',\n",
       "  '-w<sep><variable_list><sep>',\n",
       "  '-w=<variable_list><sep>',\n",
       "  ''],\n",
       " '<custom_repr>': ['-c<predicate_list><sep>',\n",
       "  '-c<sep><predicate_list><sep>',\n",
       "  '-c=<predicate_list><sep>',\n",
       "  ''],\n",
       " '<overwrite>': ['-O<sep>', ''],\n",
       " '<thread_info>': ['-T<sep>', ''],\n",
       " '<path>': ['<location>', '<location>.<str_ascii>'],\n",
       " '<location>': ['<str_ascii>', '<path>/<str_ascii>'],\n",
       " '<variable_list>': ['<variable>', '<variable_list>,<variable>'],\n",
       " '<variable>': ['<name>', '<variable>.<name>'],\n",
       " '<name>': ['<letter><chars>'],\n",
       " '<chars>': ['', '<chars><char>'],\n",
       " '<letter>': ['a',\n",
       "  'b',\n",
       "  'c',\n",
       "  'd',\n",
       "  'e',\n",
       "  'f',\n",
       "  'g',\n",
       "  'h',\n",
       "  'i',\n",
       "  'j',\n",
       "  'k',\n",
       "  'l',\n",
       "  'm',\n",
       "  'n',\n",
       "  'o',\n",
       "  'p',\n",
       "  'q',\n",
       "  'r',\n",
       "  's',\n",
       "  't',\n",
       "  'u',\n",
       "  'v',\n",
       "  'w',\n",
       "  'x',\n",
       "  'y',\n",
       "  'z',\n",
       "  'A',\n",
       "  'B',\n",
       "  'C',\n",
       "  'D',\n",
       "  'E',\n",
       "  'F',\n",
       "  'G',\n",
       "  'H',\n",
       "  'I',\n",
       "  'J',\n",
       "  'K',\n",
       "  'L',\n",
       "  'M',\n",
       "  'N',\n",
       "  'O',\n",
       "  'P',\n",
       "  'Q',\n",
       "  'R',\n",
       "  'S',\n",
       "  'T',\n",
       "  'U',\n",
       "  'V',\n",
       "  'W',\n",
       "  'X',\n",
       "  'Y',\n",
       "  'Z'],\n",
       " '<digit>': ['0', '1', '2', '3', '4', '5', '6', '7', '8', '9'],\n",
       " '<char>': ['<letter>', '<digit>', '_'],\n",
       " '<predicate_list>': ['<predicate>', '<predicate_list>,<predicate>'],\n",
       " '<predicate>': ['<p_function>=<t_function>'],\n",
       " '<p_function>': ['int', 'str', 'float', 'bool'],\n",
       " '<t_function>': ['repr', 'str', 'int'],\n",
       " '<str_ascii>': ['<chars_ascii>'],\n",
       " '<chars_ascii>': ['<char_ascii>', '<char_ascii><chars_ascii>'],\n",
       " '<char_ascii>': ['a',\n",
       "  'b',\n",
       "  'c',\n",
       "  'd',\n",
       "  'e',\n",
       "  'f',\n",
       "  'g',\n",
       "  'h',\n",
       "  'i',\n",
       "  'j',\n",
       "  'k',\n",
       "  'l',\n",
       "  'm',\n",
       "  'n',\n",
       "  'o',\n",
       "  'p',\n",
       "  'q',\n",
       "  'r',\n",
       "  's',\n",
       "  't',\n",
       "  'u',\n",
       "  'v',\n",
       "  'w',\n",
       "  'x',\n",
       "  'y',\n",
       "  'z',\n",
       "  'A',\n",
       "  'B',\n",
       "  'C',\n",
       "  'D',\n",
       "  'E',\n",
       "  'F',\n",
       "  'G',\n",
       "  'H',\n",
       "  'I',\n",
       "  'J',\n",
       "  'K',\n",
       "  'L',\n",
       "  'M',\n",
       "  'N',\n",
       "  'O',\n",
       "  'P',\n",
       "  'Q',\n",
       "  'R',\n",
       "  'S',\n",
       "  'T',\n",
       "  'U',\n",
       "  'V',\n",
       "  'W',\n",
       "  'X',\n",
       "  'Y',\n",
       "  'Z',\n",
       "  '0',\n",
       "  '1',\n",
       "  '2',\n",
       "  '3',\n",
       "  '4',\n",
       "  '5',\n",
       "  '6',\n",
       "  '7',\n",
       "  '8',\n",
       "  '9'],\n",
       " '<number>': ['<non_zero><digits>'],\n",
       " '<non_zero>': ['1', '2', '3', '4', '5', '6', '7', '8', '9'],\n",
       " '<digits>': ['', '<digit><digits>']}"
      ]
     },
     "execution_count": 9,
     "metadata": {},
     "output_type": "execute_result"
    }
   ],
   "source": [
    "program.get_grammar()"
   ]
  },
  {
   "cell_type": "code",
   "execution_count": 10,
   "id": "ca16918c-543a-4969-8a86-4ca2a05538e4",
   "metadata": {},
   "outputs": [],
   "source": [
    "oracle = program.get_oracle()"
   ]
  },
  {
   "cell_type": "code",
   "execution_count": 11,
   "id": "54fd7e15-eeaf-4192-b22a-28630509c503",
   "metadata": {
    "scrolled": true
   },
   "outputs": [
    {
     "name": "stdout",
     "output_type": "stream",
     "text": [
      "-otest.log  (<OracleResult.PASSING: 'PASSING'>, None)\n",
      "  (<OracleResult.PASSING: 'PASSING'>, None)\n",
      "-T -d1  (<OracleResult.PASSING: 'PASSING'>, None)\n",
      "-o -d1  (<OracleResult.PASSING: 'PASSING'>, None)\n",
      "-O -otest.log  (<OracleResult.PASSING: 'PASSING'>, None)\n",
      "-d1 -wx  (<OracleResult.PASSING: 'PASSING'>, None)\n",
      "-wy  (<OracleResult.PASSING: 'PASSING'>, None)\n",
      "-otest.log -wx  (<OracleResult.PASSING: 'PASSING'>, None)\n",
      "-ptest  (<OracleResult.PASSING: 'PASSING'>, None)\n",
      "-ptest -wx  (<OracleResult.PASSING: 'PASSING'>, None)\n",
      "-otest.log -cint=str  (<OracleResult.FAILING: 'FAILING'>, Tests4PySubjectException('An Exception was triggered.'))\n",
      "-cint=str  (<OracleResult.FAILING: 'FAILING'>, Tests4PySubjectException('An Exception was triggered.'))\n",
      "-T -d1 -cint=repr  (<OracleResult.FAILING: 'FAILING'>, Tests4PySubjectException('An Exception was triggered.'))\n",
      "-o -d1 -cbool=str  (<OracleResult.FAILING: 'FAILING'>, Tests4PySubjectException('An Exception was triggered.'))\n",
      "-O -otest.log -cint=repr,bool=str  (<OracleResult.FAILING: 'FAILING'>, Tests4PySubjectException('An Exception was triggered.'))\n",
      "-d1 -wx -cfloat=str  (<OracleResult.FAILING: 'FAILING'>, Tests4PySubjectException('An Exception was triggered.'))\n",
      "-wy -cstr=str  (<OracleResult.FAILING: 'FAILING'>, Tests4PySubjectException('An Exception was triggered.'))\n",
      "-otest.log -wx -cstr=int  (<OracleResult.FAILING: 'FAILING'>, Tests4PySubjectException('An Exception was triggered.'))\n",
      "-ptest -cbool=int  (<OracleResult.FAILING: 'FAILING'>, Tests4PySubjectException('An Exception was triggered.'))\n",
      "-ptest -wx -cint=str  (<OracleResult.FAILING: 'FAILING'>, Tests4PySubjectException('An Exception was triggered.'))\n"
     ]
    }
   ],
   "source": [
    "for inp in program.get_initial_inputs():\n",
    "    print(inp, oracle(inp))"
   ]
  },
  {
   "cell_type": "code",
   "execution_count": 12,
   "id": "e9b6db3a-c02c-458a-95c2-9a6c24e08af8",
   "metadata": {},
   "outputs": [],
   "source": [
    "# Verify grammar"
   ]
  },
  {
   "cell_type": "code",
   "execution_count": 13,
   "id": "7e2be90a-56b0-42e6-9f26-48332cdc5d3f",
   "metadata": {},
   "outputs": [],
   "source": [
    "from debugging_framework.fuzzingbook.grammar import is_valid_grammar\n",
    "\n",
    "for program in programs:\n",
    "    grammar = program.get_grammar()\n",
    "    assert is_valid_grammar(grammar), f\"Grammar not valid for Project {program}\""
   ]
  },
  {
   "cell_type": "code",
   "execution_count": 14,
   "id": "e645151e-fc32-4ac4-92d9-2f1f85486a28",
   "metadata": {},
   "outputs": [],
   "source": [
    "# Verify initial inputs"
   ]
  },
  {
   "cell_type": "code",
   "execution_count": 15,
   "id": "cca10f5d-ea5b-4179-9e98-d29cc84ed1a8",
   "metadata": {},
   "outputs": [],
   "source": [
    "from isla.parser import EarleyParser, tree_to_string\n",
    "\n",
    "for program in programs:\n",
    "    grammar = program.get_grammar()\n",
    "    parser = EarleyParser(grammar)\n",
    "    for inp in program.get_initial_inputs():\n",
    "        for tree in parser.parse(inp):\n",
    "            assert tree_to_string(tree) == str(inp), f\"Could not parse {inp} for Project {program}\""
   ]
  },
  {
   "cell_type": "code",
   "execution_count": 16,
   "id": "dca813b8-f291-484d-9ed4-35075638b2e7",
   "metadata": {},
   "outputs": [],
   "source": [
    "# Verify Oracles"
   ]
  },
  {
   "cell_type": "code",
   "execution_count": 17,
   "id": "b39ff009-d282-4741-b2b8-a5b332604797",
   "metadata": {},
   "outputs": [
    {
     "name": "stdout",
     "output_type": "stream",
     "text": [
      "Tests4PyBenchmarkProgram(pysnooper_2)\n",
      "b'-otest.log                                                  ' PASSING\n",
      "b'                                                            ' PASSING\n",
      "b'-T -d1                                                      ' PASSING\n",
      "b'-o -d1                                                      ' PASSING\n",
      "b'-O -otest.log                                               ' PASSING\n",
      "b'-d1 -wx                                                     ' PASSING\n",
      "b'-wy                                                         ' PASSING\n",
      "b'-otest.log -wx                                              ' PASSING\n",
      "b'-ptest                                                      ' PASSING\n",
      "b'-ptest -wx                                                  ' PASSING\n",
      "b'-otest.log -cint=str                                        ' FAILING\n",
      "b'-cint=str                                                   ' FAILING\n",
      "b'-T -d1 -cint=repr                                           ' FAILING\n",
      "b'-o -d1 -cbool=str                                           ' FAILING\n",
      "b'-O -otest.log -cint=repr,bool=str                           ' FAILING\n",
      "b'-d1 -wx -cfloat=str                                         ' FAILING\n",
      "b'-wy -cstr=str                                               ' FAILING\n",
      "b'-otest.log -wx -cstr=int                                    ' FAILING\n",
      "b'-ptest -cbool=int                                           ' FAILING\n",
      "b'-ptest -wx -cint=str                                        ' FAILING\n",
      "Tests4PyBenchmarkProgram(pysnooper_3)\n",
      "b'                                                            ' PASSING\n",
      "b'-o -d1                                                      ' PASSING\n",
      "b'-vx                                                         ' PASSING\n",
      "b'-o -vx,y                                                    ' PASSING\n",
      "b'-d2 -vw                                                     ' PASSING\n",
      "b'-o -ptest                                                   ' PASSING\n",
      "b'-d1 -ptest                                                  ' PASSING\n",
      "b'-o -ptest -vx                                               ' PASSING\n",
      "b'-d1 -vw,x,y,z                                               ' PASSING\n",
      "b'-o -d1 -ptest -vx,z                                         ' PASSING\n",
      "b'-otest1.log                                                 ' FAILING\n",
      "b'-otest2.log -d1                                             ' FAILING\n",
      "b'-otest3.log -vx                                             ' FAILING\n",
      "b'-otest4.log -vx,y                                           ' FAILING\n",
      "b'-otest5.log -d2 -vw                                         ' FAILING\n",
      "b'-otest6.log -ptest                                          ' FAILING\n",
      "b'-otest7.log -d1 -ptest                                      ' FAILING\n",
      "b'-otest8.log -ptest -vx                                      ' FAILING\n",
      "b'-otest9.log -d1 -vw,x,y,z                                   ' FAILING\n",
      "b'-otest10.log -d1 -ptest -vx,z                               ' FAILING\n",
      "Tests4PyBenchmarkProgram(cookiecutter_2)\n",
      "b'{\"full_name\":\"Marius Smytzek\",\"email\":\"mariussmtze          ' PASSING\n",
      "b'{\"full_name\":\"Marius Smytzek\",\"email\":\"mariussmtze          ' PASSING\n",
      "b'{\"full_name\":\"Marius Smytzek\",\"email\":\"mariussmtze          ' PASSING\n",
      "b'{\"full_name\":\"Marius Smytzek\",\"email\":\"mariussmtze          ' PASSING\n",
      "b'{\"full_name\":\"Marius Smytzek\",\"email\":\"mariussmtze          ' PASSING\n",
      "b'{\"full_name\":[\"Marius Smytzek\",\"Martin Eberlein\"],          ' PASSING\n",
      "b'{\"full_name\":[\"Marius Smytzek\",\"Martin Eberlein\"],          ' PASSING\n",
      "b'{\"full_name\":[\"Marius Smytzek\",\"Martin Eberlein\"],          ' PASSING\n",
      "b'{\"full_name\":[\"Marius Smytzek\",\"Martin Eberlein\"],          ' PASSING\n",
      "b'{\"full_name\":\"Marius Smytzek\",\"email\":\"mariussmtze          ' PASSING\n",
      "b'{\"full_name\":\"Marius Smytzek\",\"email\":\"mariussmtze          ' FAILING\n",
      "b'{\"full_name\":\"Marius Smytzek\",\"email\":\"mariussmtze          ' FAILING\n",
      "b'{\"full_name\":\"Marius Smytzek\",\"email\":\"mariussmtze          ' FAILING\n",
      "b'{\"full_name\":\"Marius Smytzek\",\"email\":\"mariussmtze          ' FAILING\n",
      "b'{\"full_name\":\"Marius Smytzek\",\"email\":\"mariussmtze          ' FAILING\n",
      "b'{\"full_name\":\"Marius Smytzek\",\"email\":\"mariussmtze          ' FAILING\n",
      "b'{\"full_name\":\"Marius Smytzek\",\"email\":\"mariussmtze          ' FAILING\n",
      "b'{\"full_name\":[\"Marius Smytzek\",\"Martin Eberlein\"],          ' FAILING\n",
      "b'{\"full_name\":[\"Marius Smytzek\",\"Martin Eberlein\"],          ' FAILING\n",
      "b'{\"full_name\":\"Marius Smytzek\",\"email\":\"mariussmtze          ' FAILING\n",
      "Tests4PyBenchmarkProgram(cookiecutter_3)\n",
      "b'{\"full_name\":\"Martin Eberlein\",\"email\":\"mariussmtz          ' PASSING\n",
      "b'{\"full_name\":\"Marius Smytzek\",\"email\":\"martineberl          ' PASSING\n",
      "b'{\"full_name\":\"Marius Smytzek\",\"email\":\"mariussmtze          ' PASSING\n",
      "b'{\"full_name\":\"Michael Mera\",\"email\":\"mariussmtzek@          ' PASSING\n",
      "b'{\"full_name\":\"Michael Mera\",\"email\":\"mariussmtzek@          ' PASSING\n",
      "b'{\"full_name\":\"Marius Smytzek\",\"email\":\"martineberl          ' PASSING\n",
      "b'{\"full_name\":\"Michael Mera\",\"email\":\"martineberlei          ' PASSING\n",
      "b'{\"full_name\":\"Marius Smytzek\",\"email\":\"mariussmtze          ' PASSING\n",
      "b'{\"full_name\":\"Marius Smytzek\",\"email\":\"mariussmtze          ' PASSING\n",
      "b'{\"full_name\":\"Michael Mera\",\"email\":\"martineberlei          ' PASSING\n",
      "b'{\"full_name\":[\"Marius Smytzek\",\"Martin Eberlein\"],          ' FAILING\n",
      "b'{\"full_name\":\"Marius Smytzek\",\"email\":[\"mariussmyt          ' FAILING\n",
      "b'{\"full_name\":\"Marius Smytzek\",\"email\":\"mariussmtze          ' FAILING\n",
      "b'{\"full_name\":[\"Marius Smytzek\",\"Martin Eberlein\",\"          ' FAILING\n",
      "b'{\"full_name\":[\"Marius Smytzek\",\"Martin Eberlein\",\"          ' FAILING\n",
      "b'{\"full_name\":\"Marius Smytzek\",\"email\":[\"mariussmyt          ' FAILING\n",
      "b'{\"full_name\":[\"Marius Smytzek\",\"Martin Eberlein\",\"          ' FAILING\n",
      "b'{\"full_name\":\"Marius Smytzek\",\"email\":\"mariussmtze          ' FAILING\n",
      "b'{\"full_name\":\"Marius Smytzek\",\"email\":\"mariussmtze          ' FAILING\n",
      "b'{\"full_name\":[\"Marius Smytzek\",\"Martin Eberlein\",\"          ' FAILING\n",
      "Tests4PyBenchmarkProgram(cookiecutter_4)\n",
      "b'{\"full_name\":\"Marius Smytzek\",\"email\":\"mariussmtze          ' PASSING\n",
      "b'{\"full_name\":\"Marius Smytzek\",\"email\":\"mariussmtze          ' PASSING\n",
      "b'{\"full_name\":\"Marius Smytzek\",\"email\":\"mariussmtze          ' PASSING\n",
      "b'{\"full_name\":\"Marius Smytzek\",\"email\":\"mariussmtze          ' PASSING\n",
      "b'{\"full_name\":\"Marius Smytzek\",\"email\":\"mariussmtze          ' PASSING\n",
      "b'{\"full_name\":[\"Marius Smytzek\",\"Martin Eberlein\"],          ' PASSING\n",
      "b'{\"full_name\":\"Marius Smytzek\",\"email\":\"mariussmtze          ' PASSING\n",
      "b'{\"full_name\":[\"Marius Smytzek\",\"Martin Eberlein\"],          ' PASSING\n",
      "b'{\"full_name\":[\"Marius Smytzek\",\"Martin Eberlein\"],          ' PASSING\n",
      "b'{\"full_name\":\"Marius Smytzek\",\"email\":\"mariussmtze          ' PASSING\n",
      "b'{\"full_name\":\"Marius Smytzek\",\"email\":\"mariussmtze          ' FAILING\n",
      "b'{\"full_name\":\"Marius Smytzek\",\"email\":\"mariussmtze          ' FAILING\n",
      "b'{\"full_name\":\"Marius Smytzek\",\"email\":\"mariussmtze          ' FAILING\n",
      "b'{\"full_name\":\"Marius Smytzek\",\"email\":\"mariussmtze          ' FAILING\n",
      "b'{\"full_name\":\"Marius Smytzek\",\"email\":\"mariussmtze          ' FAILING\n",
      "b'{\"full_name\":[\"Marius Smytzek\",\"Martin Eberlein\"],          ' FAILING\n",
      "b'{\"full_name\":\"Marius Smytzek\",\"email\":\"mariussmtze          ' FAILING\n",
      "b'{\"full_name\":[\"Marius Smytzek\",\"Martin Eberlein\"],          ' FAILING\n",
      "b'{\"full_name\":[\"Marius Smytzek\",\"Martin Eberlein\"],          ' FAILING\n",
      "b'{\"full_name\":\"Marius Smytzek\",\"email\":\"mariussmtze          ' FAILING\n"
     ]
    }
   ],
   "source": [
    "from debugging_framework.input.oracle import OracleResult\n",
    "\n",
    "for program in programs:\n",
    "    oracle = program.get_oracle()\n",
    "    print(program)\n",
    "    for inp in program.get_initial_inputs():\n",
    "        test_result, exception = oracle(inp)\n",
    "        \n",
    "        # only display the first 50 chars as inputs are quite long for cookiecutter; shortend inputs [:50]\n",
    "        print((inp.encode()[:50]).ljust(60), test_result)"
   ]
  },
  {
   "cell_type": "code",
   "execution_count": 18,
   "id": "6b771c59-81d0-4a99-ba02-3b75bcdc9163",
   "metadata": {},
   "outputs": [],
   "source": [
    "from debugging_framework.input.oracle import OracleResult\n",
    "\n",
    "for program in programs:\n",
    "    oracle = program.get_oracle()\n",
    "    for inp in program.get_failing_inputs():\n",
    "        test_result, exception = oracle(inp)\n",
    "        assert test_result == OracleResult.FAILING, f\"Unexpected behavior for Input '{inp}' for Project {program}\""
   ]
  },
  {
   "cell_type": "code",
   "execution_count": 19,
   "id": "17c4f05e-2213-4f44-b0c2-2540c5d52654",
   "metadata": {},
   "outputs": [],
   "source": [
    "from debugging_framework.input.oracle import OracleResult\n",
    "\n",
    "for program in programs:\n",
    "    oracle = program.get_oracle()\n",
    "    for inp in program.get_passing_inputs():\n",
    "        test_result, exception = oracle(inp)\n",
    "        assert test_result == OracleResult.PASSING, f\"Unexpected behavior for Input '{inp}' for Project {program}\""
   ]
  },
  {
   "cell_type": "code",
   "execution_count": 20,
   "id": "158b3c4d-955d-48b4-a10b-3c09f579dde2",
   "metadata": {},
   "outputs": [
    {
     "name": "stdout",
     "output_type": "stream",
     "text": [
      "b' ' (<OracleResult.PASSING: 'PASSING'>, None)\n",
      "b'-O\\n-T\\n-d7 -w\\nt__.p_1_,K.H9o_.Q.q3__.D.U.nr.T_,s3.L11_.R_\\n-c=int=int ' (<OracleResult.FAILING: 'FAILING'>, Tests4PySubjectException('An Exception was triggered.'))\n",
      "b'-T\\n-o\\n-d9\\n-p J -w M_.AQ435_.jy\\n-c bool=repr,int=str\\n' (<OracleResult.FAILING: 'FAILING'>, Tests4PySubjectException('An Exception was triggered.'))\n",
      "b' ' (<OracleResult.PASSING: 'PASSING'>, None)\n",
      "b'-T\\n-d=2\\n-p\\nfq -cbool=int,bool=int,bool=int\\n' (<OracleResult.FAILING: 'FAILING'>, Tests4PySubjectException('An Exception was triggered.'))\n",
      "b' ' (<OracleResult.PASSING: 'PASSING'>, None)\n",
      "b' ' (<OracleResult.PASSING: 'PASSING'>, None)\n",
      "b'-o -d=83 -p=m\\n-c float=repr ' (<OracleResult.FAILING: 'FAILING'>, Tests4PySubjectException('An Exception was triggered.'))\n",
      "b'-T -p\\nW -c\\nbool=int,float=int,str=int,float=int ' (<OracleResult.FAILING: 'FAILING'>, Tests4PySubjectException('An Exception was triggered.'))\n",
      "b' ' (<OracleResult.PASSING: 'PASSING'>, None)\n",
      "b'-O\\n-T\\n-o\\n9\\n-d99\\n-p 6WsO -w p4C2 ' (<OracleResult.PASSING: 'PASSING'>, None)\n",
      "b' ' (<OracleResult.PASSING: 'PASSING'>, None)\n",
      "b'-o5 -d=3\\n-w=n.g2kKL_,J_,G.a2.s2_\\n' (<OracleResult.PASSING: 'PASSING'>, None)\n",
      "b' ' (<OracleResult.PASSING: 'PASSING'>, None)\n",
      "b' ' (<OracleResult.PASSING: 'PASSING'>, None)\n",
      "b' ' (<OracleResult.PASSING: 'PASSING'>, None)\n",
      "b'-T -o -d929\\n-p9\\n-wQ.h.O,k.c.p7.Rt,S_\\n-c=float=repr\\n' (<OracleResult.FAILING: 'FAILING'>, Tests4PySubjectException('An Exception was triggered.'))\n",
      "b'-O\\n-o\\n-wI\\n' (<OracleResult.UNDEFINED: 'UNDEFINED'>, Tests4PySubjectException('{\\'command\\': \\'run\\', \\'successful\\': True, \\'project\\': \\'pysnooper_2\\', \\'input\\': \"[\\'-O\\', \\'-o\\', \\'-wI\\']\", \\'test_result\\': \\'UNDEFINED\\', \\'feedback\\': b\\'Traceback (most recent call last):\\\\n  File \"tests4py_harness.py\", line 50, in <module>\\\\n    @snoop(**parameters)\\\\n  File \"/private/tmp/pysnooper_2/pysnooper/tracer.py\", line 190, in __init__\\\\n    self._write = get_write_function(output, overwrite)\\\\n  File \"/private/tmp/pysnooper_2/pysnooper/tracer.py\", line 105, in get_write_function\\\\n    raise Exception(\\\\\\'`overwrite=True` can only be used when writing \\\\\\'\\\\nException: `overwrite=True` can only be used when writing content to file.\\\\n\\', \\'stdout\\': \\'\\', \\'stderr\\': \\'Traceback (most recent call last):\\\\n  File \"tests4py_harness.py\", line 50, in <module>\\\\n    @snoop(**parameters)\\\\n  File \"/private/tmp/pysnooper_2/pysnooper/tracer.py\", line 190, in __init__\\\\n    self._write = get_write_function(output, overwrite)\\\\n  File \"/private/tmp/pysnooper_2/pysnooper/tracer.py\", line 105, in get_write_function\\\\n    raise Exception(\\\\\\'`overwrite=True` can only be used when writing \\\\\\'\\\\nException: `overwrite=True` can only be used when writing content to file.\\\\n\\'}'))\n",
      "b' ' (<OracleResult.PASSING: 'PASSING'>, None)\n",
      "b' ' (<OracleResult.PASSING: 'PASSING'>, None)\n"
     ]
    }
   ],
   "source": [
    "from debugging_framework.fuzzingbook.fuzzer import GrammarFuzzer, is_valid_grammar\n",
    "\n",
    "# First Program (Pysnooper 2)\n",
    "program = programs[0]\n",
    "\n",
    "\n",
    "grammar = program.get_grammar()\n",
    "oracle = program.get_oracle()\n",
    "\n",
    "fuzzer = GrammarFuzzer(grammar, max_nonterminals=20)\n",
    "\n",
    "for _ in range(20):\n",
    "    inp = fuzzer.fuzz()\n",
    "    print(inp.encode(), oracle(inp))"
   ]
  }
 ],
 "metadata": {
  "kernelspec": {
   "display_name": "Python 3 (ipykernel)",
   "language": "python",
   "name": "python3"
  },
  "language_info": {
   "codemirror_mode": {
    "name": "ipython",
    "version": 3
   },
   "file_extension": ".py",
   "mimetype": "text/x-python",
   "name": "python",
   "nbconvert_exporter": "python",
   "pygments_lexer": "ipython3",
   "version": "3.12.3"
  }
 },
 "nbformat": 4,
 "nbformat_minor": 5
}
