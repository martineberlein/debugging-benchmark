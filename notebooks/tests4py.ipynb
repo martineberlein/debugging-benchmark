{
 "cells": [
  {
   "cell_type": "markdown",
   "id": "24792eef-33c8-4025-9e01-594530ee9409",
   "metadata": {},
   "source": [
    "# Tests4Py"
   ]
  },
  {
   "cell_type": "code",
   "execution_count": 1,
   "id": "520ac9af-0b8c-4ff3-99c3-8b06b2b0f621",
   "metadata": {},
   "outputs": [
    {
     "name": "stderr",
     "output_type": "stream",
     "text": [
      "tests4py :: INFO     :: Loading projects\n"
     ]
    }
   ],
   "source": [
    "from tests4py.api.logging import deactivate, debug\n",
    "deactivate()\n",
    "#debug()"
   ]
  },
  {
   "cell_type": "code",
   "execution_count": 2,
   "id": "b22f4e82-ce83-48ec-b640-b5efca77c86a",
   "metadata": {},
   "outputs": [],
   "source": [
    "from debugging_benchmark.tests4py_benchmark.repository import (\n",
    "    CalculatorBenchmarkRepository,\n",
    "    MarkUpBenchmarkRepository, \n",
    "    ExpressionBenchmarkRepository,\n",
    "    MiddleBenchmarkRepository,\n",
    ")"
   ]
  },
  {
   "cell_type": "code",
   "execution_count": 3,
   "id": "f21c4f8c-b77a-4fa4-a527-32822f2d3fa7",
   "metadata": {},
   "outputs": [],
   "source": [
    "repos = [\n",
    "    CalculatorBenchmarkRepository(),\n",
    "    ExpressionBenchmarkRepository(),\n",
    "    MiddleBenchmarkRepository(),\n",
    "    MarkUpBenchmarkRepository(),\n",
    "]"
   ]
  },
  {
   "cell_type": "code",
   "execution_count": 4,
   "id": "35336869-1c3d-464d-9c45-9cf20ad330be",
   "metadata": {},
   "outputs": [],
   "source": [
    "from typing import List\n",
    "from debugging_framework.benchmark.program import BenchmarkProgram\n",
    "\n",
    "programs: List[BenchmarkProgram] = []\n",
    "List[BenchmarkProgram]\n",
    "for repo in repos:\n",
    "    tmp: List[BenchmarkProgram] = repo.build()\n",
    "    for prog in tmp:\n",
    "        programs.append(prog)"
   ]
  },
  {
   "cell_type": "code",
   "execution_count": 5,
   "id": "4947cce4-e3e6-43d1-b383-871351eb8090",
   "metadata": {},
   "outputs": [
    {
     "data": {
      "text/plain": [
       "[Tests4PyBenchmarkProgram(calculator_1),\n",
       " Tests4PyBenchmarkProgram(expression_1),\n",
       " Tests4PyBenchmarkProgram(middle_1),\n",
       " Tests4PyBenchmarkProgram(middle_2),\n",
       " Tests4PyBenchmarkProgram(markup_1),\n",
       " Tests4PyBenchmarkProgram(markup_2)]"
      ]
     },
     "execution_count": 5,
     "metadata": {},
     "output_type": "execute_result"
    }
   ],
   "source": [
    "# Display all benchmark programs\n",
    "programs"
   ]
  },
  {
   "cell_type": "markdown",
   "id": "ec522358-4ddd-4cc9-940b-6b66c41e852c",
   "metadata": {},
   "source": [
    "## Verify Build"
   ]
  },
  {
   "cell_type": "code",
   "execution_count": 6,
   "id": "e9b6db3a-c02c-458a-95c2-9a6c24e08af8",
   "metadata": {},
   "outputs": [],
   "source": [
    "# Verify grammar"
   ]
  },
  {
   "cell_type": "code",
   "execution_count": 7,
   "id": "7e2be90a-56b0-42e6-9f26-48332cdc5d3f",
   "metadata": {},
   "outputs": [],
   "source": [
    "from debugging_framework.fuzzingbook.grammar import is_valid_grammar\n",
    "\n",
    "for program in programs:\n",
    "    grammar = program.get_grammar()\n",
    "    assert is_valid_grammar(grammar)"
   ]
  },
  {
   "cell_type": "code",
   "execution_count": 8,
   "id": "e645151e-fc32-4ac4-92d9-2f1f85486a28",
   "metadata": {},
   "outputs": [],
   "source": [
    "# Verify initial inputs"
   ]
  },
  {
   "cell_type": "code",
   "execution_count": 9,
   "id": "cca10f5d-ea5b-4179-9e98-d29cc84ed1a8",
   "metadata": {},
   "outputs": [],
   "source": [
    "from isla.parser import EarleyParser, tree_to_string\n",
    "\n",
    "for program in programs:\n",
    "    parser = EarleyParser(grammar=program.get_grammar())\n",
    "    for inp in program.get_initial_inputs():\n",
    "        for tree in parser.parse(inp):\n",
    "            assert tree_to_string(tree) == str(inp), f\"Could not parse {inp} for Project {program}\""
   ]
  },
  {
   "cell_type": "code",
   "execution_count": 10,
   "id": "dca813b8-f291-484d-9ed4-35075638b2e7",
   "metadata": {},
   "outputs": [],
   "source": [
    "# Verify Oracles"
   ]
  },
  {
   "cell_type": "code",
   "execution_count": 11,
   "id": "b39ff009-d282-4741-b2b8-a5b332604797",
   "metadata": {},
   "outputs": [],
   "source": [
    "from debugging_framework.input.oracle import OracleResult\n",
    "\n",
    "for program in programs:\n",
    "    oracle = program.get_oracle()\n",
    "    for inp in program.get_passing_inputs():\n",
    "        test_result, exception = oracle(inp)\n",
    "        assert test_result == OracleResult.PASSING, f\"Unexpected behavior for Input '{inp}' for Project {program}\""
   ]
  },
  {
   "cell_type": "code",
   "execution_count": 12,
   "id": "6b771c59-81d0-4a99-ba02-3b75bcdc9163",
   "metadata": {},
   "outputs": [],
   "source": [
    "from debugging_framework.input.oracle import OracleResult\n",
    "\n",
    "for program in programs:\n",
    "    oracle = program.get_oracle()\n",
    "    for inp in program.get_failing_inputs():\n",
    "        test_result, exception = oracle(inp)\n",
    "        assert test_result == OracleResult.FAILING, f\"Unexpected behavior for Input '{inp}' for Project {program}\""
   ]
  }
 ],
 "metadata": {
  "kernelspec": {
   "display_name": "Python 3 (ipykernel)",
   "language": "python",
   "name": "python3"
  },
  "language_info": {
   "codemirror_mode": {
    "name": "ipython",
    "version": 3
   },
   "file_extension": ".py",
   "mimetype": "text/x-python",
   "name": "python",
   "nbconvert_exporter": "python",
   "pygments_lexer": "ipython3",
   "version": "3.10.9"
  }
 },
 "nbformat": 4,
 "nbformat_minor": 5
}
