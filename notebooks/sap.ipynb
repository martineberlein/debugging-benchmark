{
 "cells": [
  {
   "cell_type": "markdown",
   "id": "071b8adf-9e72-4351-99d1-e8e1ffc69ccc",
   "metadata": {},
   "source": [
    "# StudentAssignments"
   ]
  },
  {
   "cell_type": "code",
   "execution_count": 1,
   "id": "7eacd3d2-336e-4eb6-992c-0de9646e1d46",
   "metadata": {},
   "outputs": [],
   "source": [
    "from debugging_benchmark.student_assignments.repository import GCDStudentAssignmentRepository"
   ]
  },
  {
   "cell_type": "code",
   "execution_count": 2,
   "id": "ae72aa70-dd5f-488e-8b30-e83652ece948",
   "metadata": {},
   "outputs": [],
   "source": [
    "repo = GCDStudentAssignmentRepository()"
   ]
  },
  {
   "cell_type": "code",
   "execution_count": 3,
   "id": "3bae96a7-00cf-46c2-b33f-49a5fa14ba9c",
   "metadata": {},
   "outputs": [
    {
     "name": "stdout",
     "output_type": "stream",
     "text": [
      "/Users/martineberlein/github/debugging-benchmark/src/debugging_benchmark/student_assignments/resources/problem_1_GCD/prog_1/buggy.py\n",
      "/Users/martineberlein/github/debugging-benchmark/src/debugging_benchmark/student_assignments/resources/problem_1_GCD/prog_2/buggy.py\n",
      "/Users/martineberlein/github/debugging-benchmark/src/debugging_benchmark/student_assignments/resources/problem_1_GCD/prog_3/buggy.py\n",
      "/Users/martineberlein/github/debugging-benchmark/src/debugging_benchmark/student_assignments/resources/problem_1_GCD/prog_4/buggy.py\n",
      "/Users/martineberlein/github/debugging-benchmark/src/debugging_benchmark/student_assignments/resources/problem_1_GCD/prog_5/buggy.py\n",
      "/Users/martineberlein/github/debugging-benchmark/src/debugging_benchmark/student_assignments/resources/problem_1_GCD/prog_6/buggy.py\n",
      "/Users/martineberlein/github/debugging-benchmark/src/debugging_benchmark/student_assignments/resources/problem_1_GCD/prog_7/buggy.py\n",
      "/Users/martineberlein/github/debugging-benchmark/src/debugging_benchmark/student_assignments/resources/problem_1_GCD/prog_8/buggy.py\n",
      "/Users/martineberlein/github/debugging-benchmark/src/debugging_benchmark/student_assignments/resources/problem_1_GCD/prog_9/buggy.py\n",
      "/Users/martineberlein/github/debugging-benchmark/src/debugging_benchmark/student_assignments/resources/problem_1_GCD/prog_10/buggy.py\n"
     ]
    }
   ],
   "source": [
    "programs = repo.build()"
   ]
  },
  {
   "cell_type": "code",
   "execution_count": null,
   "id": "00784578-d383-4d5f-85dd-606ff18e653e",
   "metadata": {},
   "outputs": [],
   "source": []
  },
  {
   "cell_type": "code",
   "execution_count": 4,
   "id": "6d3163f3-840c-4fc2-9ee8-009815bc02ed",
   "metadata": {},
   "outputs": [
    {
     "name": "stdout",
     "output_type": "stream",
     "text": [
      "StudentAssignmentBenchmarkProgram(GCD1StudentAssignmentProject())\n",
      "43 38                                              (<OracleResult.FAILING: 'FAILING'>, UnexpectedResultError('Results do not match'))\n",
      "10 2                                               (<OracleResult.FAILING: 'FAILING'>, UnexpectedResultError('Results do not match'))\n",
      "4 4                                                (<OracleResult.FAILING: 'FAILING'>, UnexpectedResultError('Results do not match'))\n",
      "StudentAssignmentBenchmarkProgram(GCD2StudentAssignmentProject())\n",
      "10 2                                               (<OracleResult.PASSING: 'PASSING'>, None)\n",
      "4 4                                                (<OracleResult.PASSING: 'PASSING'>, None)\n",
      "43 38                                              (<OracleResult.FAILING: 'FAILING'>, UnexpectedResultError('Results do not match'))\n",
      "StudentAssignmentBenchmarkProgram(GCD3StudentAssignmentProject())\n",
      "10 2                                               (<OracleResult.PASSING: 'PASSING'>, None)\n",
      "21 21                                              (<OracleResult.FAILING: 'FAILING'>, UnexpectedResultError('Results do not match'))\n",
      "4 4                                                (<OracleResult.FAILING: 'FAILING'>, UnexpectedResultError('Results do not match'))\n",
      "StudentAssignmentBenchmarkProgram(GCD4StudentAssignmentProject())\n",
      "10 2                                               (<OracleResult.PASSING: 'PASSING'>, None)\n",
      "4 4                                                (<OracleResult.PASSING: 'PASSING'>, None)\n",
      "21 38                                              (<OracleResult.FAILING: 'FAILING'>, UnexpectedResultError('Results do not match'))\n",
      "StudentAssignmentBenchmarkProgram(GCD5StudentAssignmentProject())\n",
      "10 2                                               (<OracleResult.PASSING: 'PASSING'>, None)\n",
      "4 4                                                (<OracleResult.PASSING: 'PASSING'>, None)\n",
      "43 38                                              (<OracleResult.FAILING: 'FAILING'>, UnexpectedResultError('Results do not match'))\n",
      "StudentAssignmentBenchmarkProgram(GCD6StudentAssignmentProject())\n",
      "10 2                                               (<OracleResult.PASSING: 'PASSING'>, None)\n",
      "21 21                                              (<OracleResult.FAILING: 'FAILING'>, UnexpectedResultError('Results do not match'))\n",
      "4 4                                                (<OracleResult.FAILING: 'FAILING'>, UnexpectedResultError('Results do not match'))\n",
      "StudentAssignmentBenchmarkProgram(GCD7StudentAssignmentProject())\n",
      "4 4                                                (<OracleResult.PASSING: 'PASSING'>, None)\n",
      "43 38                                              (<OracleResult.FAILING: 'FAILING'>, RecursionError('maximum recursion depth exceeded in comparison'))\n",
      "10 2                                               (<OracleResult.FAILING: 'FAILING'>, RecursionError('maximum recursion depth exceeded in comparison'))\n",
      "StudentAssignmentBenchmarkProgram(GCD8StudentAssignmentProject())\n",
      "10 2                                               (<OracleResult.PASSING: 'PASSING'>, None)\n",
      "4 4                                                (<OracleResult.PASSING: 'PASSING'>, None)\n",
      "1940673456000 194067                               (<OracleResult.FAILING: 'FAILING'>, RecursionError('maximum recursion depth exceeded in comparison'))\n",
      "StudentAssignmentBenchmarkProgram(GCD9StudentAssignmentProject())\n",
      "10 2                                               (<OracleResult.PASSING: 'PASSING'>, None)\n",
      "8 80                                               (<OracleResult.FAILING: 'FAILING'>, UnexpectedResultError('Results do not match'))\n",
      "4 4                                                (<OracleResult.FAILING: 'FAILING'>, UnexpectedResultError('Results do not match'))\n",
      "StudentAssignmentBenchmarkProgram(GCD10StudentAssignmentProject())\n",
      "4 4                                                (<OracleResult.PASSING: 'PASSING'>, None)\n",
      "8 80                                               (<OracleResult.FAILING: 'FAILING'>, UnexpectedResultError('Results do not match'))\n",
      "10 2                                               (<OracleResult.FAILING: 'FAILING'>, UnexpectedResultError('Results do not match'))\n"
     ]
    }
   ],
   "source": [
    "for program in programs:\n",
    "    print(program)\n",
    "    oracle = program.get_oracle()\n",
    "    for inp in program.get_initial_inputs():\n",
    "        print(inp.ljust(50), oracle(inp))"
   ]
  },
  {
   "cell_type": "code",
   "execution_count": null,
   "id": "cebce257-bf06-41aa-8d13-05e677424db4",
   "metadata": {},
   "outputs": [],
   "source": []
  }
 ],
 "metadata": {
  "kernelspec": {
   "display_name": "Python 3 (ipykernel)",
   "language": "python",
   "name": "python3"
  },
  "language_info": {
   "codemirror_mode": {
    "name": "ipython",
    "version": 3
   },
   "file_extension": ".py",
   "mimetype": "text/x-python",
   "name": "python",
   "nbconvert_exporter": "python",
   "pygments_lexer": "ipython3",
   "version": "3.10.9"
  }
 },
 "nbformat": 4,
 "nbformat_minor": 5
}
