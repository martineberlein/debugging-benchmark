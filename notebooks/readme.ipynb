{
 "cells": [
  {
   "cell_type": "markdown",
   "id": "7ec4303f-c488-49e2-93ef-c47ca5f00292",
   "metadata": {},
   "source": [
    "# README Notebook"
   ]
  },
  {
   "cell_type": "markdown",
   "id": "4f380ce3-61f6-441a-b307-635477cb07c8",
   "metadata": {},
   "source": [
    "Welcome to the **Debugging Benchmark**!\n",
    "\n",
    "This guide will walk you through using our benchmarks to test and evaluate your research prototypes efficiently."
   ]
  },
  {
   "cell_type": "markdown",
   "id": "50c0766d-4f7f-4a1a-a50c-2fe636a67ec1",
   "metadata": {},
   "source": [
    "## Quickstart \n",
    "\n",
    "### Initializing the Calculator Benchmark\n",
    "\n",
    "Let's start by constructing the Calculator Subject from our benchmark collection. We initialize the Calculator Benchmark Repository, which contains the Subject and automatically builds it for us.\n",
    "_Note that repositories can contain multiple subjects, i.e., when they have more than one version or bug._"
   ]
  },
  {
   "cell_type": "code",
   "execution_count": 1,
   "id": "bcff66e8-2851-47bc-ad92-a22ac13c5131",
   "metadata": {},
   "outputs": [
    {
     "name": "stdout",
     "output_type": "stream",
     "text": [
      "Initialized Calculator Repository with 1 subject(s).\n"
     ]
    }
   ],
   "source": [
    "from typing import List\n",
    "from debugging_framework.benchmark.program import BenchmarkProgram\n",
    "from debugging_framework.benchmark.repository import BenchmarkRepository\n",
    "from debugging_benchmark.calculator.calculator import CalculatorBenchmarkRepository\n",
    "\n",
    "# Initialize the repository containing the calculator benchmarks\n",
    "calculator_repo: BenchmarkRepository = CalculatorBenchmarkRepository()\n",
    "\n",
    "# Build the subjects from the repository\n",
    "calculator_subjects: List[BenchmarkProgram] = calculator_repo.build()\n",
    "\n",
    "print(f\"Initialized Calculator Repository with {len(calculator_subjects)} subject(s).\")"
   ]
  },
  {
   "cell_type": "markdown",
   "id": "c30b98f7-1b40-45a5-a6b3-becaa7823d98",
   "metadata": {},
   "source": [
    "#### Accessing a Subject\n",
    "\n",
    "We access the first subject from the list of built calculator subjects to work with it. This subject represents a specific version or instance of the calculator program that we will test and evaluate."
   ]
  },
  {
   "cell_type": "code",
   "execution_count": 2,
   "id": "4904f061-d684-47bd-8646-9b1765907e1a",
   "metadata": {},
   "outputs": [
    {
     "data": {
      "text/plain": [
       "BenchmarkProgram(calculator)"
      ]
     },
     "execution_count": 2,
     "metadata": {},
     "output_type": "execute_result"
    }
   ],
   "source": [
    "calculator = next(iter(calculator_subjects))\n",
    "calculator"
   ]
  },
  {
   "cell_type": "markdown",
   "id": "8d892120-09a4-46a0-b27d-1166004ffe5b",
   "metadata": {},
   "source": [
    "### Fuzzing the Calculator Benchmark\n",
    "\n",
    "Next, we'll fuzz each calculator subject to generate passing and failing inputs. The `GrammarFuzzer` is utilized here to create inputs based on the grammar and rules defined in the calculator subject."
   ]
  },
  {
   "cell_type": "code",
   "execution_count": 3,
   "id": "234cee3d-e09f-4e18-8802-815915332d8e",
   "metadata": {},
   "outputs": [
    {
     "name": "stdout",
     "output_type": "stream",
     "text": [
      "cos(6)                         (<OracleResult.PASSING: 'PASSING'>, None)\n",
      "sqrt(453.3)                    (<OracleResult.PASSING: 'PASSING'>, None)\n",
      "sqrt(-507)                     (<OracleResult.FAILING: 'FAILING'>, ValueError())\n",
      "cos(-7)                        (<OracleResult.PASSING: 'PASSING'>, None)\n",
      "cos(23810174.37)               (<OracleResult.PASSING: 'PASSING'>, None)\n",
      "sin(-7)                        (<OracleResult.PASSING: 'PASSING'>, None)\n",
      "tan(46.79)                     (<OracleResult.PASSING: 'PASSING'>, None)\n",
      "tan(-8780.3)                   (<OracleResult.PASSING: 'PASSING'>, None)\n",
      "sqrt(2681)                     (<OracleResult.PASSING: 'PASSING'>, None)\n",
      "sin(23)                        (<OracleResult.PASSING: 'PASSING'>, None)\n"
     ]
    }
   ],
   "source": [
    "from debugging_framework.fuzzingbook.fuzzer import GrammarFuzzer\n",
    "\n",
    "# Retrieve the grammar defined for the calculator\n",
    "grammar = calculator.get_grammar()\n",
    "\n",
    "# Retrieve the oracle for the calculator, which determines if the output is correct\n",
    "program_oracle = calculator.get_oracle()\n",
    "\n",
    "# Create a fuzzer instance with the retrieved grammar\n",
    "fuzzer = GrammarFuzzer(grammar=grammar)\n",
    "\n",
    "# Generate and print 10 fuzzed inputs along with their oracle results\n",
    "for _ in range(10):\n",
    "    inp = fuzzer.fuzz()\n",
    "    print(inp.ljust(30), program_oracle(inp))"
   ]
  },
  {
   "cell_type": "markdown",
   "id": "2a1a095c-bac1-49ed-8a8c-61ac84620f46",
   "metadata": {},
   "source": [
    "### Displaying the Grammar\n",
    "\n",
    "We can display the grammar used by the calculator benchmark. The grammar defines the structure of valid inputs for the calculator, which the fuzzer uses to generate test cases."
   ]
  },
  {
   "cell_type": "code",
   "execution_count": 4,
   "id": "a661dd8c-e2e8-4ca8-a413-a7820af16e36",
   "metadata": {},
   "outputs": [
    {
     "name": "stdout",
     "output_type": "stream",
     "text": [
      "{'<arith_expr>': ['<function>(<number>)'],\n",
      " '<digit>': ['0', '1', '2', '3', '4', '5', '6', '7', '8', '9'],\n",
      " '<digits>': ['<digit>', '<digit><digits>'],\n",
      " '<function>': ['sqrt', 'sin', 'cos', 'tan'],\n",
      " '<maybe_digits>': ['', '<digits>'],\n",
      " '<maybe_frac>': ['', '.<digits>'],\n",
      " '<maybe_minus>': ['', '-'],\n",
      " '<number>': ['<maybe_minus><one_nine><maybe_digits><maybe_frac>'],\n",
      " '<one_nine>': ['1', '2', '3', '4', '5', '6', '7', '8', '9'],\n",
      " '<start>': ['<arith_expr>']}\n"
     ]
    }
   ],
   "source": [
    "from pprint import pprint\n",
    "\n",
    "# Retrieve and print the grammar for the calculator\n",
    "grammar = calculator.get_grammar()\n",
    "pprint(grammar)"
   ]
  },
  {
   "cell_type": "markdown",
   "id": "16b086e1-feb0-4748-b6c4-d9358fb32db4",
   "metadata": {},
   "source": [
    "### Program Oracle Explanation\n",
    "\n",
    "**Program Oracle**: All subjects in the Debugging Benchmark come with a program oracle, which indicates whether a bug in the program occurred. This can be an unexpected Exception or Result. The oracle returns an `OracleResult`, which can be either `PASSING`, `FAILING`, or `UNDEFINED`.\n",
    "\n",
    "We initialize the program oracle, a function that takes an input string and returns a tuple containing the `OracleResult` and any `Exception` encountered."
   ]
  },
  {
   "cell_type": "code",
   "execution_count": 5,
   "id": "db297cce-2490-4073-84cf-bb8486e6a734",
   "metadata": {},
   "outputs": [],
   "source": [
    "from typing import Callable, Tuple, Union\n",
    "from debugging_framework.input.oracle import OracleResult\n",
    "\n",
    "# Initialize the program oracle for the calculator\n",
    "program_oracle: Callable[[str], Tuple[OracleResult, Union[Exception, None]]] = calculator.get_oracle()"
   ]
  },
  {
   "cell_type": "markdown",
   "id": "28c16605-6c86-480c-a98a-0c39d58ecab0",
   "metadata": {},
   "source": [
    "**Testing the Program Oracle with Valid Input**: We test the program oracle with a valid input to see how it evaluates the result. Here, we use a trigonometric function `cos(10)`."
   ]
  },
  {
   "cell_type": "code",
   "execution_count": 6,
   "id": "a85bf23b-c493-4f30-b171-ab45c364e5da",
   "metadata": {},
   "outputs": [
    {
     "data": {
      "text/plain": [
       "(<OracleResult.PASSING: 'PASSING'>, None)"
      ]
     },
     "execution_count": 6,
     "metadata": {},
     "output_type": "execute_result"
    }
   ],
   "source": [
    "# Test the program oracle with a valid input\n",
    "program_oracle(\"cos(10)\")"
   ]
  },
  {
   "cell_type": "markdown",
   "id": "cea6e39f-2364-43c2-932b-a137f7b33e03",
   "metadata": {},
   "source": [
    "**Testing the Program Oracle with failing Inputs**:\n",
    "We test the program oracle with a failure inducing input to observe its behavior when encountering errors. Here, we use the square root of a negative number `sqrt(-900)`, which should trigger an exception."
   ]
  },
  {
   "cell_type": "code",
   "execution_count": 7,
   "id": "b32a689c-b5d4-4f2b-9efa-276c169bb223",
   "metadata": {},
   "outputs": [
    {
     "data": {
      "text/plain": [
       "(<OracleResult.FAILING: 'FAILING'>, ValueError())"
      ]
     },
     "execution_count": 7,
     "metadata": {},
     "output_type": "execute_result"
    }
   ],
   "source": [
    "# Test the program oracle with a failing input\n",
    "program_oracle(\"sqrt(-900)\")"
   ]
  },
  {
   "cell_type": "markdown",
   "id": "b89a8a9a-305f-4c81-9007-d0486f9cfb94",
   "metadata": {},
   "source": [
    "### Initial Inputs\n",
    "\n",
    "**Initial Inputs:** Each Subject comes with a set of initial inputs (_passing_ and _failing_). These inputs help us understand the basic behavior of the program before further testing.\n",
    "\n",
    "We print each initial input along with its oracle result."
   ]
  },
  {
   "cell_type": "code",
   "execution_count": 8,
   "id": "82bcfbdc-eb04-40b7-baf0-f8321610108d",
   "metadata": {},
   "outputs": [
    {
     "name": "stdout",
     "output_type": "stream",
     "text": [
      "cos(10)                        (<OracleResult.PASSING: 'PASSING'>, None)\n",
      "sqrt(-900)                     (<OracleResult.FAILING: 'FAILING'>, ValueError())\n"
     ]
    }
   ],
   "source": [
    "# Print each initial input and its oracle result\n",
    "for inp in calculator.get_initial_inputs():\n",
    "    print(inp.ljust(30), program_oracle(inp))"
   ]
  },
  {
   "cell_type": "markdown",
   "id": "2091edab-f816-4640-9480-a01f8ff7fbc2",
   "metadata": {},
   "source": [
    "The initial inputs can also be accessed using the functions `get_passing_inputs()` and `get_failing_inputs()`, which return only passing or failing inputs, respectively."
   ]
  },
  {
   "cell_type": "markdown",
   "id": "a08d4f7f-1e79-4ac6-9548-b29ee7236923",
   "metadata": {},
   "source": [
    "### Dictionary Representation of Parameters\n",
    "\n",
    "**Dictionary**: For convenience, each subject also implements the function `to_dict()` which returns a dictionary of all parameters, making them easily accessible.\n",
    "\n",
    "We retrieve the dictionary representation of the parameters with only passing inputs."
   ]
  },
  {
   "cell_type": "code",
   "execution_count": 9,
   "id": "f3921742-9b79-4443-b7e6-06f5570bf2a2",
   "metadata": {},
   "outputs": [],
   "source": [
    "# Retrieve the dictionary representation of parameters with only passing inputs\n",
    "calculator_param = calculator.to_dict(only_passing=True)"
   ]
  },
  {
   "cell_type": "markdown",
   "id": "02a1d808-33a5-43a9-957a-9a04d73cf9eb",
   "metadata": {},
   "source": [
    "We display the dictionary representation of the calculator parameters to examine the details."
   ]
  },
  {
   "cell_type": "code",
   "execution_count": 10,
   "id": "f6024125-1f6a-4bf2-b947-0eced1491ad9",
   "metadata": {},
   "outputs": [
    {
     "name": "stdout",
     "output_type": "stream",
     "text": [
      "{'grammar': {'<arith_expr>': ['<function>(<number>)'],\n",
      "             '<digit>': ['0', '1', '2', '3', '4', '5', '6', '7', '8', '9'],\n",
      "             '<digits>': ['<digit>', '<digit><digits>'],\n",
      "             '<function>': ['sqrt', 'sin', 'cos', 'tan'],\n",
      "             '<maybe_digits>': ['', '<digits>'],\n",
      "             '<maybe_frac>': ['', '.<digits>'],\n",
      "             '<maybe_minus>': ['', '-'],\n",
      "             '<number>': ['<maybe_minus><one_nine><maybe_digits><maybe_frac>'],\n",
      "             '<one_nine>': ['1', '2', '3', '4', '5', '6', '7', '8', '9'],\n",
      "             '<start>': ['<arith_expr>']},\n",
      " 'initial_inputs': ['cos(10)'],\n",
      " 'oracle': <function calculator_oracle at 0x111e679c0>}\n"
     ]
    }
   ],
   "source": [
    "from pprint import pprint\n",
    "\n",
    "# Print the dictionary of parameters\n",
    "pprint(calculator_param)"
   ]
  },
  {
   "cell_type": "code",
   "execution_count": 11,
   "id": "3ada7a24-1497-46f7-9630-33676858c95d",
   "metadata": {},
   "outputs": [
    {
     "data": {
      "text/plain": [
       "['cos(10)']"
      ]
     },
     "execution_count": 11,
     "metadata": {},
     "output_type": "execute_result"
    }
   ],
   "source": [
    "# Parameters can be accessed directly\n",
    "calculator_param[\"initial_inputs\"]"
   ]
  }
 ],
 "metadata": {
  "kernelspec": {
   "display_name": "Python 3 (ipykernel)",
   "language": "python",
   "name": "python3"
  },
  "language_info": {
   "codemirror_mode": {
    "name": "ipython",
    "version": 3
   },
   "file_extension": ".py",
   "mimetype": "text/x-python",
   "name": "python",
   "nbconvert_exporter": "python",
   "pygments_lexer": "ipython3",
   "version": "3.12.3"
  }
 },
 "nbformat": 4,
 "nbformat_minor": 5
}
