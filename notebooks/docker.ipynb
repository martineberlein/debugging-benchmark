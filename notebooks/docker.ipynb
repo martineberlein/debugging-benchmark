{
 "cells": [
  {
   "metadata": {},
   "cell_type": "markdown",
   "source": "# Docker",
   "id": "476f2295db2443c2"
  },
  {
   "metadata": {
    "ExecuteTime": {
     "end_time": "2024-10-21T13:05:49.276701Z",
     "start_time": "2024-10-21T13:05:48.910694Z"
    }
   },
   "cell_type": "code",
   "source": [
    "from debugging_benchmark.tests4py_benchmark.project import (\n",
    "    Fastapi3Tests4PyProject as Subproject,\n",
    ")"
   ],
   "id": "cf37a7c0374c5a62",
   "outputs": [
    {
     "name": "stderr",
     "output_type": "stream",
     "text": [
      "tests4py :: INFO     :: Loading projects\n"
     ]
    }
   ],
   "execution_count": 1
  },
  {
   "metadata": {
    "ExecuteTime": {
     "end_time": "2024-10-21T13:06:12.091392Z",
     "start_time": "2024-10-21T13:06:12.087968Z"
    }
   },
   "cell_type": "code",
   "source": "t4p_project = Subproject() ",
   "id": "10ff286a43811d95",
   "outputs": [],
   "execution_count": 2
  },
  {
   "metadata": {
    "ExecuteTime": {
     "end_time": "2024-10-21T13:06:33.112468Z",
     "start_time": "2024-10-21T13:06:33.109313Z"
    }
   },
   "cell_type": "code",
   "source": [
    "inputs = t4p_project.failing_inputs + t4p_project.passing_inputs\n",
    "for inp in inputs:\n",
    "    print(inp)"
   ],
   "id": "6fcac4288e9f809c",
   "outputs": [
    {
     "name": "stdout",
     "output_type": "stream",
     "text": [
      "-gs /valid/ Item -a martin -m get -u /valid/\n",
      "-gs /valid/ Item -a marius -m get -u /valid/\n",
      "-gs /valid/ Item -a aliased_name -m get -u /valid/\n",
      "-gs /valid/ Item -a aliased_name -m get -u /valid/\n",
      "-gs /valid/ Item -a aliased_name -m get -u /valid/\n",
      "-gs /valid/ Item -a aliased_name -m get -u /valid/\n",
      "-gs /valid/ Item -a aliased_name -m get -u /valid/\n",
      "-gs /valid/ Item -a aliased_name -m get -u /valid/\n",
      "-gs /valid/ Item -a aliased_name -m get -u /valid/\n",
      "-gs /valid/ Item -a aliased_name -m get -u /valid/\n",
      "-ws / dep -os dep over -m websocket -u /\n",
      "-ws / dep -os dep over -ds dep2 -m websocket -u /\n",
      "-ws / dep -os dep over -ds dep2 -m websocket -d {} -u /\n",
      "-ws / dep -os dep over -ds dep2 -m websocket -d \"[1,2,0.0,\\\"test\\\"]\" -u /\n",
      "-u /openapi.json -m get -pas /user {user_id} 0\n",
      "-ws / dep -os dep over -ds dep2 -m websocket -d \"\\\"test\\\"\" -u /\n",
      "-ws /test dep2 -ws /test2 dep -os dep over -os dep2 over2 -m websocket -u /test\n",
      "-r /a b value -gs /b Item -m get -u /b\n",
      "-ps /f FormList -u /f -m post -d {\\\"items\\\":[1,2,3]}\n",
      "-gs /valid/ Item -m get -u /valid/\n"
     ]
    }
   ],
   "execution_count": 4
  },
  {
   "metadata": {
    "ExecuteTime": {
     "end_time": "2024-10-21T13:09:37.126473Z",
     "start_time": "2024-10-21T13:09:31.188497Z"
    }
   },
   "cell_type": "code",
   "source": [
    "from debugging_framework.docker.manager import DockerManager\n",
    "\n",
    "with DockerManager(t4p_project.project) as docker_manager:\n",
    "    docker_manager.build()\n",
    "    docker_manager.build_container(number_of_containers=5)\n",
    "    # Run inputs and get OracleResult outputs\n",
    "    outputs = docker_manager.run_inputs(inputs)\n",
    "\n",
    "    # Print the OracleResults\n",
    "    for input_str, oracle_result in outputs.items():\n",
    "        print(f\"Input: '{input_str}' : OracleResult: {oracle_result}\")\n"
   ],
   "id": "7cbdf9eaa64297d1",
   "outputs": [
    {
     "name": "stderr",
     "output_type": "stream",
     "text": [
      "debugging_framework.docker.manager :: INFO     :: Image base_image already exists. Skipping build.\n",
      "debugging_framework.docker.manager :: INFO     :: Temporary directory created at: /var/folders/44/tdfnzq5x35j91n3gd2pc6jlc0000gn/T/tmp1a_9chd7\n",
      "debugging_framework.docker.manager :: INFO     :: Files [PosixPath('/Users/martineberlein/github/debugging-benchmark/src/debugging_framework/resources/docker_setup.py'), PosixPath('/Users/martineberlein/github/debugging-benchmark/src/debugging_framework/resources/docker_runner.py'), PosixPath('/Users/martineberlein/github/debugging-benchmark/src/debugging_framework/resources/docker_runner_inputs.py')] copied to temporary directory.\n",
      "debugging_framework.docker.manager :: INFO     :: Image fastapi_3_image already exists. Skipping build.\n",
      "debugging_framework.docker.manager :: ERROR    :: tests4py :: INFO     :: Loading projects\n",
      "root :: INFO     :: Input: -gs /valid/ Item -a martin -m get -u /valid/, Oracle: (<OracleResult.FAILING: 'FAILING'>, Tests4PySubjectException('An Exception was triggered.'))\n",
      "\n",
      "debugging_framework.docker.manager :: ERROR    :: tests4py :: INFO     :: Loading projects\n",
      "root :: INFO     :: Input: -gs /valid/ Item -a aliased_name -m get -u /valid/, Oracle: (<OracleResult.FAILING: 'FAILING'>, Tests4PySubjectException('An Exception was triggered.'))\n",
      "\n",
      "debugging_framework.docker.manager :: ERROR    :: tests4py :: INFO     :: Loading projects\n",
      "root :: INFO     :: Input: -gs /valid/ Item -a aliased_name -m get -u /valid/, Oracle: (<OracleResult.FAILING: 'FAILING'>, Tests4PySubjectException('An Exception was triggered.'))\n",
      "\n",
      "debugging_framework.docker.manager :: ERROR    :: tests4py :: INFO     :: Loading projects\n",
      "root :: INFO     :: Input: -gs /valid/ Item -a aliased_name -m get -u /valid/, Oracle: (<OracleResult.FAILING: 'FAILING'>, Tests4PySubjectException('An Exception was triggered.'))\n",
      "\n",
      "debugging_framework.docker.manager :: ERROR    :: tests4py :: INFO     :: Loading projects\n",
      "root :: INFO     :: Input: -gs /valid/ Item -a marius -m get -u /valid/, Oracle: (<OracleResult.FAILING: 'FAILING'>, Tests4PySubjectException('An Exception was triggered.'))\n",
      "\n",
      "debugging_framework.docker.manager :: ERROR    :: tests4py :: INFO     :: Loading projects\n",
      "root :: INFO     :: Input: -gs /valid/ Item -a aliased_name -m get -u /valid/, Oracle: (<OracleResult.FAILING: 'FAILING'>, Tests4PySubjectException('An Exception was triggered.'))\n",
      "\n",
      "debugging_framework.docker.manager :: ERROR    :: tests4py :: INFO     :: Loading projects\n",
      "root :: INFO     :: Input: -gs /valid/ Item -a aliased_name -m get -u /valid/, Oracle: (<OracleResult.FAILING: 'FAILING'>, Tests4PySubjectException('An Exception was triggered.'))\n",
      "\n",
      "debugging_framework.docker.manager :: ERROR    :: tests4py :: INFO     :: Loading projects\n",
      "root :: INFO     :: Input: -gs /valid/ Item -a aliased_name -m get -u /valid/, Oracle: (<OracleResult.FAILING: 'FAILING'>, Tests4PySubjectException('An Exception was triggered.'))\n",
      "\n",
      "debugging_framework.docker.manager :: ERROR    :: tests4py :: INFO     :: Loading projects\n",
      "root :: INFO     :: Input: -gs /valid/ Item -a aliased_name -m get -u /valid/, Oracle: (<OracleResult.FAILING: 'FAILING'>, Tests4PySubjectException('An Exception was triggered.'))\n",
      "\n",
      "debugging_framework.docker.manager :: ERROR    :: tests4py :: INFO     :: Loading projects\n",
      "root :: INFO     :: Input: -gs /valid/ Item -a aliased_name -m get -u /valid/, Oracle: (<OracleResult.FAILING: 'FAILING'>, Tests4PySubjectException('An Exception was triggered.'))\n",
      "\n",
      "debugging_framework.docker.manager :: ERROR    :: tests4py :: INFO     :: Loading projects\n",
      "root :: INFO     :: Input: -ws / dep -os dep over -m websocket -u /, Oracle: (<OracleResult.PASSING: 'PASSING'>, None)\n",
      "\n",
      "debugging_framework.docker.manager :: ERROR    :: tests4py :: INFO     :: Loading projects\n",
      "root :: INFO     :: Input: -ws / dep -os dep over -ds dep2 -m websocket -u /, Oracle: (<OracleResult.PASSING: 'PASSING'>, None)\n",
      "\n",
      "debugging_framework.docker.manager :: ERROR    :: tests4py :: INFO     :: Loading projects\n",
      "root :: INFO     :: Input: -ws / dep -os dep over -ds dep2 -m websocket -d {} -u /, Oracle: (<OracleResult.PASSING: 'PASSING'>, None)\n",
      "\n",
      "debugging_framework.docker.manager :: ERROR    :: tests4py :: INFO     :: Loading projects\n",
      "root :: INFO     :: Input: -ws / dep -os dep over -ds dep2 -m websocket -d \"[1,2,0.0,\\\"test\\\"]\" -u /, Oracle: (<OracleResult.PASSING: 'PASSING'>, None)\n",
      "\n",
      "debugging_framework.docker.manager :: ERROR    :: tests4py :: INFO     :: Loading projects\n",
      "root :: INFO     :: Input: -u /openapi.json -m get -pas /user {user_id} 0, Oracle: (<OracleResult.PASSING: 'PASSING'>, None)\n",
      "\n",
      "debugging_framework.docker.manager :: ERROR    :: tests4py :: INFO     :: Loading projects\n",
      "root :: INFO     :: Input: -ws / dep -os dep over -ds dep2 -m websocket -d \"\\\"test\\\"\" -u /, Oracle: (<OracleResult.PASSING: 'PASSING'>, None)\n",
      "\n",
      "debugging_framework.docker.manager :: ERROR    :: tests4py :: INFO     :: Loading projects\n",
      "root :: INFO     :: Input: -r /a b value -gs /b Item -m get -u /b, Oracle: (<OracleResult.PASSING: 'PASSING'>, None)\n",
      "\n",
      "debugging_framework.docker.manager :: ERROR    :: tests4py :: INFO     :: Loading projects\n",
      "root :: INFO     :: Input: -ws /test dep2 -ws /test2 dep -os dep over -os dep2 over2 -m websocket -u /test, Oracle: (<OracleResult.PASSING: 'PASSING'>, None)\n",
      "\n",
      "debugging_framework.docker.manager :: ERROR    :: tests4py :: INFO     :: Loading projects\n",
      "root :: INFO     :: Input: -ps /f FormList -u /f -m post -d {\\\"items\\\":[1,2,3]}, Oracle: (<OracleResult.PASSING: 'PASSING'>, None)\n",
      "\n",
      "debugging_framework.docker.manager :: ERROR    :: tests4py :: INFO     :: Loading projects\n",
      "root :: INFO     :: Input: -gs /valid/ Item -m get -u /valid/, Oracle: (<OracleResult.PASSING: 'PASSING'>, None)\n",
      "\n"
     ]
    },
    {
     "name": "stdout",
     "output_type": "stream",
     "text": [
      "Input: '-gs /valid/ Item -a martin -m get -u /valid/' : OracleResult: FAILING\n",
      "Input: '-gs /valid/ Item -a aliased_name -m get -u /valid/' : OracleResult: FAILING\n",
      "Input: '-gs /valid/ Item -a marius -m get -u /valid/' : OracleResult: FAILING\n",
      "Input: '-ws / dep -os dep over -m websocket -u /' : OracleResult: PASSING\n",
      "Input: '-ws / dep -os dep over -ds dep2 -m websocket -u /' : OracleResult: PASSING\n",
      "Input: '-ws / dep -os dep over -ds dep2 -m websocket -d {} -u /' : OracleResult: PASSING\n",
      "Input: '-ws / dep -os dep over -ds dep2 -m websocket -d \"[1,2,0.0,\\\"test\\\"]\" -u /' : OracleResult: PASSING\n",
      "Input: '-u /openapi.json -m get -pas /user {user_id} 0' : OracleResult: PASSING\n",
      "Input: '-ws / dep -os dep over -ds dep2 -m websocket -d \"\\\"test\\\"\" -u /' : OracleResult: PASSING\n",
      "Input: '-r /a b value -gs /b Item -m get -u /b' : OracleResult: PASSING\n",
      "Input: '-ws /test dep2 -ws /test2 dep -os dep over -os dep2 over2 -m websocket -u /test' : OracleResult: PASSING\n",
      "Input: '-ps /f FormList -u /f -m post -d {\\\"items\\\":[1,2,3]}' : OracleResult: PASSING\n",
      "Input: '-gs /valid/ Item -m get -u /valid/' : OracleResult: PASSING\n"
     ]
    }
   ],
   "execution_count": 5
  }
 ],
 "metadata": {
  "kernelspec": {
   "display_name": "Python 3",
   "language": "python",
   "name": "python3"
  },
  "language_info": {
   "codemirror_mode": {
    "name": "ipython",
    "version": 2
   },
   "file_extension": ".py",
   "mimetype": "text/x-python",
   "name": "python",
   "nbconvert_exporter": "python",
   "pygments_lexer": "ipython2",
   "version": "2.7.6"
  }
 },
 "nbformat": 4,
 "nbformat_minor": 5
}
