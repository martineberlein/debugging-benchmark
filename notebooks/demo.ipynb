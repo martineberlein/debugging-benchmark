{
 "cells": [
  {
   "cell_type": "markdown",
   "id": "7b99c95a-f18c-4b24-939e-10797863ed14",
   "metadata": {
    "ExecuteTime": {
     "end_time": "2024-04-17T07:26:05.738018Z",
     "start_time": "2024-04-17T07:26:05.735447Z"
    }
   },
   "source": [
    "# Using the Debugging Benchmark"
   ]
  },
  {
   "cell_type": "code",
   "execution_count": null,
   "id": "ed77c290a5165b0b",
   "metadata": {},
   "outputs": [],
   "source": []
  },
  {
   "cell_type": "code",
   "execution_count": 1,
   "id": "d14e2ec4-c007-402d-8493-0d3f3c14b1cf",
   "metadata": {},
   "outputs": [],
   "source": [
    "from debugging_benchmark.calculator.calculator import (\n",
    "    calculator_oracle as oracle,\n",
    "    calculator_initial_inputs as initial_inputs,\n",
    "    calculator_grammar as grammar,\n",
    ")"
   ]
  },
  {
   "cell_type": "code",
   "execution_count": 2,
   "id": "73d6e4c1-03d9-4eae-8591-ff6aabb5bba5",
   "metadata": {},
   "outputs": [
    {
     "name": "stdout",
     "output_type": "stream",
     "text": [
      "cos(12)\n",
      "sqrt(-900)\n"
     ]
    }
   ],
   "source": [
    "for inp in initial_inputs:\n",
    "    print(inp)"
   ]
  },
  {
   "cell_type": "code",
   "execution_count": 3,
   "id": "06f8736c-055b-4d73-9992-f81e01f91429",
   "metadata": {},
   "outputs": [
    {
     "name": "stdout",
     "output_type": "stream",
     "text": [
      "cos(12)              PASSING\n",
      "sqrt(-900)           FAILING\n"
     ]
    }
   ],
   "source": [
    "for inp in initial_inputs:\n",
    "    print(inp.ljust(20), oracle(inp))"
   ]
  },
  {
   "cell_type": "code",
   "execution_count": null,
   "id": "4f4c8aef-210c-44c6-a8dd-29b0e4335d82",
   "metadata": {},
   "outputs": [],
   "source": []
  },
  {
   "cell_type": "markdown",
   "id": "00d77494-eb47-4c47-8045-51ec709b68a2",
   "metadata": {},
   "source": [
    "## Using pre-defined Benchmarks"
   ]
  },
  {
   "cell_type": "code",
   "execution_count": 4,
   "id": "3109f415-8716-49d1-b6b7-a8b4082876f5",
   "metadata": {},
   "outputs": [
    {
     "ename": "ImportError",
     "evalue": "cannot import name 'StudentAssignmentBenchmarkProgram' from 'debugging_benchmark.student_assignments' (unknown location)",
     "output_type": "error",
     "traceback": [
      "\u001b[0;31m---------------------------------------------------------------------------\u001b[0m",
      "\u001b[0;31mImportError\u001b[0m                               Traceback (most recent call last)",
      "Cell \u001b[0;32mIn[4], line 3\u001b[0m\n\u001b[1;32m      1\u001b[0m \u001b[38;5;28;01mfrom\u001b[39;00m \u001b[38;5;21;01mtyping\u001b[39;00m \u001b[38;5;28;01mimport\u001b[39;00m List\n\u001b[0;32m----> 3\u001b[0m \u001b[38;5;28;01mfrom\u001b[39;00m \u001b[38;5;21;01mdebugging_benchmark\u001b[39;00m\u001b[38;5;21;01m.\u001b[39;00m\u001b[38;5;21;01mstudent_assignments\u001b[39;00m \u001b[38;5;28;01mimport\u001b[39;00m (\n\u001b[1;32m      4\u001b[0m     StudentAssignmentBenchmarkProgram,\n\u001b[1;32m      5\u001b[0m     StudentAssignmentRepository,\n\u001b[1;32m      6\u001b[0m     MiddleAssignmentBenchmarkRepository,\n\u001b[1;32m      7\u001b[0m )\n",
      "\u001b[0;31mImportError\u001b[0m: cannot import name 'StudentAssignmentBenchmarkProgram' from 'debugging_benchmark.student_assignments' (unknown location)"
     ]
    }
   ],
   "source": [
    "from typing import List\n",
    "\n",
    "from debugging_benchmark.student_assignments import (\n",
    "    StudentAssignmentBenchmarkProgram,\n",
    "    StudentAssignmentRepository,\n",
    "    MiddleAssignmentBenchmarkRepository,\n",
    ")"
   ]
  },
  {
   "cell_type": "code",
   "execution_count": 5,
   "id": "ec61be37-3c19-47e1-803a-2fd93d8a8785",
   "metadata": {},
   "outputs": [],
   "source": [
    "repository = MiddleAssignmentBenchmarkRepository()\n",
    "programs: List[StudentAssignmentBenchmarkProgram] = repository.build()"
   ]
  },
  {
   "cell_type": "code",
   "execution_count": 6,
   "id": "be293abf-bc5f-433a-8a35-d56cc08b17b3",
   "metadata": {},
   "outputs": [
    {
     "name": "stdout",
     "output_type": "stream",
     "text": [
      "StudentAssignmentBenchmarkProgram(Middle_1)\n",
      "StudentAssignmentBenchmarkProgram(Middle_2)\n",
      "StudentAssignmentBenchmarkProgram(Middle_3)\n",
      "StudentAssignmentBenchmarkProgram(Middle_4)\n",
      "StudentAssignmentBenchmarkProgram(Middle_5)\n",
      "StudentAssignmentBenchmarkProgram(Middle_6)\n",
      "StudentAssignmentBenchmarkProgram(Middle_7)\n",
      "StudentAssignmentBenchmarkProgram(Middle_8)\n",
      "StudentAssignmentBenchmarkProgram(Middle_9)\n",
      "StudentAssignmentBenchmarkProgram(Middle_10)\n"
     ]
    }
   ],
   "source": [
    "for program in programs:\n",
    "    print(program)"
   ]
  },
  {
   "cell_type": "code",
   "execution_count": 7,
   "id": "f695820f-bff5-4872-80e0-422efd221595",
   "metadata": {},
   "outputs": [
    {
     "name": "stdout",
     "output_type": "stream",
     "text": [
      "StudentAssignmentBenchmarkProgram(Middle_1)\n",
      "124 153 97           (<OracleResult.FAILING: 'FAILING'>, UnexpectedResultError('Results do not match'))\n",
      "162 934 200          (<OracleResult.FAILING: 'FAILING'>, UnexpectedResultError('Results do not match'))\n",
      "978 518 300          (<OracleResult.PASSING: 'PASSING'>, None)\n",
      "StudentAssignmentBenchmarkProgram(Middle_2)\n",
      "124 153 97           (<OracleResult.FAILING: 'FAILING'>, UnexpectedResultError('Results do not match'))\n",
      "978 518 300          (<OracleResult.FAILING: 'FAILING'>, UnexpectedResultError('Results do not match'))\n",
      "162 934 200          (<OracleResult.PASSING: 'PASSING'>, None)\n",
      "StudentAssignmentBenchmarkProgram(Middle_3)\n",
      "312 62 478           (<OracleResult.FAILING: 'FAILING'>, UnexpectedResultError('Results do not match'))\n",
      "162 934 200          (<OracleResult.FAILING: 'FAILING'>, UnexpectedResultError('Results do not match'))\n",
      "978 518 300          (<OracleResult.PASSING: 'PASSING'>, None)\n",
      "StudentAssignmentBenchmarkProgram(Middle_4)\n",
      "124 153 97           (<OracleResult.FAILING: 'FAILING'>, UnexpectedResultError('Results do not match'))\n",
      "162 934 200          (<OracleResult.FAILING: 'FAILING'>, UnexpectedResultError('Results do not match'))\n",
      "978 518 300          (<OracleResult.PASSING: 'PASSING'>, None)\n",
      "StudentAssignmentBenchmarkProgram(Middle_5)\n",
      "13 39 485            (<OracleResult.FAILING: 'FAILING'>, UnexpectedResultError('Results do not match'))\n",
      "162 934 200          (<OracleResult.FAILING: 'FAILING'>, UnexpectedResultError('Results do not match'))\n",
      "978 518 300          (<OracleResult.PASSING: 'PASSING'>, None)\n",
      "StudentAssignmentBenchmarkProgram(Middle_6)\n",
      "124 153 97           (<OracleResult.FAILING: 'FAILING'>, UnexpectedResultError('Results do not match'))\n",
      "162 934 200          (<OracleResult.FAILING: 'FAILING'>, UnexpectedResultError('Results do not match'))\n",
      "978 518 300          (<OracleResult.PASSING: 'PASSING'>, None)\n",
      "StudentAssignmentBenchmarkProgram(Middle_7)\n",
      "13 39 485            (<OracleResult.FAILING: 'FAILING'>, UnexpectedResultError('Results do not match'))\n",
      "978 518 300          (<OracleResult.PASSING: 'PASSING'>, None)\n",
      "162 934 200          (<OracleResult.PASSING: 'PASSING'>, None)\n",
      "StudentAssignmentBenchmarkProgram(Middle_8)\n",
      "124 153 97           (<OracleResult.FAILING: 'FAILING'>, UnexpectedResultError('Results do not match'))\n",
      "978 518 300          (<OracleResult.FAILING: 'FAILING'>, UnexpectedResultError('Results do not match'))\n",
      "162 934 200          (<OracleResult.FAILING: 'FAILING'>, UnexpectedResultError('Results do not match'))\n",
      "StudentAssignmentBenchmarkProgram(Middle_9)\n",
      "312 62 478           (<OracleResult.FAILING: 'FAILING'>, UnexpectedResultError('Results do not match'))\n",
      "162 934 200          (<OracleResult.FAILING: 'FAILING'>, UnexpectedResultError('Results do not match'))\n",
      "978 518 300          (<OracleResult.PASSING: 'PASSING'>, None)\n",
      "StudentAssignmentBenchmarkProgram(Middle_10)\n",
      "459 8 20             (<OracleResult.FAILING: 'FAILING'>, UnexpectedResultError('Results do not match'))\n",
      "978 518 300          (<OracleResult.PASSING: 'PASSING'>, None)\n",
      "162 934 200          (<OracleResult.PASSING: 'PASSING'>, None)\n"
     ]
    }
   ],
   "source": [
    "for program in programs:\n",
    "    print(program)\n",
    "    oracle = program.get_oracle()\n",
    "    for inp in program.get_initial_inputs():\n",
    "        print(inp.ljust(20), oracle(inp))"
   ]
  },
  {
   "cell_type": "markdown",
   "id": "f2ded4ca-1826-4085-9e10-a297351c5f41",
   "metadata": {},
   "source": [
    "# Tests4Py"
   ]
  },
  {
   "cell_type": "code",
   "execution_count": 1,
   "id": "f93a1226-9fde-486e-9200-c67a92404424",
   "metadata": {},
   "outputs": [
    {
     "name": "stderr",
     "output_type": "stream",
     "text": [
      "tests4py :: INFO     :: Loading projects\n"
     ]
    }
   ],
   "source": [
    "from tests4py.api.logging import deactivate\n",
    "deactivate()"
   ]
  },
  {
   "cell_type": "code",
   "execution_count": 2,
   "id": "25d1b711-2dcc-450c-8280-725dffa6ec8c",
   "metadata": {},
   "outputs": [],
   "source": [
    "from debugging_benchmark.tests4py_benchmark.repository import (\n",
    "    PysnooperBenchmarkRepository,\n",
    "    CookieCutterBenchmarkRepository,\n",
    "    Tests4PyBenchmarkRepository,\n",
    "    Tests4PyBenchmarkProgram,\n",
    ")"
   ]
  },
  {
   "cell_type": "code",
   "execution_count": 3,
   "id": "0891f573-e587-473f-95c3-a651157ce235",
   "metadata": {},
   "outputs": [
    {
     "name": "stdout",
     "output_type": "stream",
     "text": [
      "sdfas\n",
      "sdfas\n"
     ]
    }
   ],
   "source": [
    "repository = PysnooperBenchmarkRepository()"
   ]
  },
  {
   "cell_type": "code",
   "execution_count": 10,
   "id": "6c14f4b6-9b28-48e0-9be2-9317e9564c63",
   "metadata": {},
   "outputs": [
    {
     "name": "stdout",
     "output_type": "stream",
     "text": [
      "sdfas\n"
     ]
    },
    {
     "data": {
      "text/plain": [
       "[['-otest.log'],\n",
       " [],\n",
       " ['-d1', '-T'],\n",
       " ['-o', '-d1'],\n",
       " ['-otest.log', '-O'],\n",
       " ['-wx', '-d1'],\n",
       " ['-wy'],\n",
       " ['-otest.log', '-wx'],\n",
       " ['-ptest'],\n",
       " ['-wx', '-ptest']]"
      ]
     },
     "execution_count": 10,
     "metadata": {},
     "output_type": "execute_result"
    }
   ],
   "source": [
    "from debugging_benchmark.tests4py_benchmark.project import Pysnooper2Tests4PyProject\n",
    "\n",
    "pro = Pysnooper2Tests4PyProject()\n",
    "pro.passing_inputs"
   ]
  },
  {
   "cell_type": "code",
   "execution_count": null,
   "id": "56df1c08-ed87-4a62-b366-201f0996951c",
   "metadata": {},
   "outputs": [],
   "source": []
  },
  {
   "cell_type": "code",
   "execution_count": 11,
   "id": "7978b4d2-2db0-4794-9b8d-f011b9866b30",
   "metadata": {},
   "outputs": [
    {
     "name": "stderr",
     "output_type": "stream",
     "text": [
      "\n",
      "[notice] A new release of pip is available: 23.1.2 -> 24.0\n",
      "[notice] To update, run: pip install --upgrade pip\n",
      "\n",
      "\u001b[1m[\u001b[0m\u001b[34;49mnotice\u001b[0m\u001b[1;39;49m]\u001b[0m\u001b[39;49m A new release of pip is available: \u001b[0m\u001b[31;49m23.2.1\u001b[0m\u001b[39;49m -> \u001b[0m\u001b[32;49m24.0\u001b[0m\n",
      "\u001b[1m[\u001b[0m\u001b[34;49mnotice\u001b[0m\u001b[1;39;49m]\u001b[0m\u001b[39;49m To update, run: \u001b[0m\u001b[32;49mpip install --upgrade pip\u001b[0m\n"
     ]
    }
   ],
   "source": [
    "programs = repository.build()"
   ]
  },
  {
   "cell_type": "code",
   "execution_count": 12,
   "id": "db3383db-259e-409d-81cd-010265d2ed1c",
   "metadata": {},
   "outputs": [
    {
     "data": {
      "text/plain": [
       "[Tests4PyBenchmarkProgram(pysnooper_2), Tests4PyBenchmarkProgram(pysnooper_3)]"
      ]
     },
     "execution_count": 12,
     "metadata": {},
     "output_type": "execute_result"
    }
   ],
   "source": [
    "programs"
   ]
  },
  {
   "cell_type": "code",
   "execution_count": 13,
   "id": "b0984650-24ce-4bc6-809f-f2ad64762e62",
   "metadata": {},
   "outputs": [
    {
     "data": {
      "text/plain": [
       "[[],\n",
       " ['-o', '-d1'],\n",
       " ['-vx'],\n",
       " ['-o', '-vx,y'],\n",
       " ['-vw', '-d2'],\n",
       " ['-o', '-ptest'],\n",
       " ['-d1', '-ptest'],\n",
       " ['-o', '-vx', '-ptest'],\n",
       " ['-d1', '-vw,x,y,z'],\n",
       " ['-o', '-d1', '-ptest', '-vx,z']]"
      ]
     },
     "execution_count": 13,
     "metadata": {},
     "output_type": "execute_result"
    }
   ],
   "source": [
    "programs[1].get_passing_inputs()"
   ]
  },
  {
   "cell_type": "code",
   "execution_count": 13,
   "id": "6f8e4d24-67b6-48e4-943f-34994a8a90e8",
   "metadata": {},
   "outputs": [
    {
     "data": {
      "text/plain": [
       "{'grammar': {'<start>': ['<options>'],\n",
       "  '<options>': ['<output><depth><prefix><watch><custom_repr><overwrite><thread_info>'],\n",
       "  '<output>': ['-o<ws>', \"-o='<path>'<ws>\", ''],\n",
       "  '<depth>': ['-d=<int><ws>', ''],\n",
       "  '<prefix>': [\"-p='<str>'<ws>\", ''],\n",
       "  '<watch>': [\"-w='<variable_list>'<ws>\", ''],\n",
       "  '<custom_repr>': ['-c=<predicate_list><ws>', ''],\n",
       "  '<overwrite>': ['-O<ws>', ''],\n",
       "  '<thread_info>': ['-T<ws>', ''],\n",
       "  '<path>': ['<location>', '<location>.<str>'],\n",
       "  '<location>': ['<str>', '<path>/<str>'],\n",
       "  '<variable_list>': ['<variable>', '<variable_list>,<variable>'],\n",
       "  '<variable>': ['<name>', '<variable>.<name>'],\n",
       "  '<name>': ['<letter><chars>'],\n",
       "  '<chars>': ['', '<chars><char>'],\n",
       "  '<letter>': ['a',\n",
       "   'b',\n",
       "   'c',\n",
       "   'd',\n",
       "   'e',\n",
       "   'f',\n",
       "   'g',\n",
       "   'h',\n",
       "   'i',\n",
       "   'j',\n",
       "   'k',\n",
       "   'l',\n",
       "   'm',\n",
       "   'n',\n",
       "   'o',\n",
       "   'p',\n",
       "   'q',\n",
       "   'r',\n",
       "   's',\n",
       "   't',\n",
       "   'u',\n",
       "   'v',\n",
       "   'w',\n",
       "   'x',\n",
       "   'y',\n",
       "   'z',\n",
       "   'A',\n",
       "   'B',\n",
       "   'C',\n",
       "   'D',\n",
       "   'E',\n",
       "   'F',\n",
       "   'G',\n",
       "   'H',\n",
       "   'I',\n",
       "   'J',\n",
       "   'K',\n",
       "   'L',\n",
       "   'M',\n",
       "   'N',\n",
       "   'O',\n",
       "   'P',\n",
       "   'Q',\n",
       "   'R',\n",
       "   'S',\n",
       "   'T',\n",
       "   'U',\n",
       "   'V',\n",
       "   'W',\n",
       "   'X',\n",
       "   'Y',\n",
       "   'Z'],\n",
       "  '<digit>': ['0', '1', '2', '3', '4', '5', '6', '7', '8', '9'],\n",
       "  '<char>': ['<letter>', '<digit>', '_'],\n",
       "  '<int>': ['<nonzero><digits>', '0'],\n",
       "  '<digits>': ['', '<digits><digit>'],\n",
       "  '<nonzero>': ['1', '2', '3', '4', '5', '6', '7', '8', '9'],\n",
       "  '<str>': ['<char><chars>'],\n",
       "  '<predicate_list>': ['<predicate>', '<predicate_list>,<predicate>'],\n",
       "  '<predicate>': ['<p_function>=<t_function>'],\n",
       "  '<p_function>': ['int', 'str', 'float', 'bool'],\n",
       "  '<t_function>': ['repr', 'str', 'int'],\n",
       "  '<ws>': [' ']},\n",
       " 'oracle': <function debugging_benchmark.tests4py.api.construct_oracle.<locals>.oracle(inp: Union[str, debugging_framework.input.input.Input]) -> Tuple[debugging_framework.input.oracle.OracleResult, Optional[Exception]]>,\n",
       " 'initial_inputs': [\"-o='test7.log' -d=1 -p='test' \",\n",
       "  \"-o='test.log' -c=int=str \",\n",
       "  \"-d=7 -p='test' -w='e.nest2' -c=bool=str,int=str -O \",\n",
       "  \"-o -d=7 -p='1' -w='e.nest2' -c=bool=str,int=str -T \"]}"
      ]
     },
     "execution_count": 13,
     "metadata": {},
     "output_type": "execute_result"
    }
   ],
   "source": [
    "programs[0].to_dict()"
   ]
  },
  {
   "cell_type": "code",
   "execution_count": 14,
   "id": "5c4d563b-aa75-491a-bf76-55c62df8fd67",
   "metadata": {},
   "outputs": [
    {
     "name": "stdout",
     "output_type": "stream",
     "text": [
      "Tests4PyBenchmarkProgram(pysnooper_2)\n",
      "-o='test7.log' -d=1 -p='test'  (<OracleResult.PASSING: 'PASSING'>, None)\n",
      "-o='test.log' -c=int=str  (<OracleResult.FAILING: 'FAILING'>, Tests4PySubjectException('An Exception was triggered.'))\n",
      "-d=7 -p='test' -w='e.nest2' -c=bool=str,int=str -O  (<OracleResult.FAILING: 'FAILING'>, Tests4PySubjectException('An Exception was triggered.'))\n",
      "-o -d=7 -p='1' -w='e.nest2' -c=bool=str,int=str -T  (<OracleResult.FAILING: 'FAILING'>, Tests4PySubjectException('An Exception was triggered.'))\n",
      "Tests4PyBenchmarkProgram(pysnooper_3)\n",
      "-d=7 -p='1'          (<OracleResult.PASSING: 'PASSING'>, None)\n",
      "-o='test7.log' -d=1 -p='test'  (<OracleResult.FAILING: 'FAILING'>, Tests4PySubjectException('An Exception was triggered.'))\n"
     ]
    }
   ],
   "source": [
    "for program in programs:\n",
    "    print(program)\n",
    "    oracle = program.get_oracle()\n",
    "    for inp in program.get_initial_inputs():\n",
    "        print(inp.ljust(20), oracle(inp))"
   ]
  },
  {
   "cell_type": "code",
   "execution_count": 10,
   "id": "201eccf5-aa22-4c59-b9af-a1012addbca0",
   "metadata": {},
   "outputs": [
    {
     "data": {
      "text/plain": [
       "Tests4PyBenchmarkProgram(pysnooper_3)"
      ]
     },
     "execution_count": 10,
     "metadata": {},
     "output_type": "execute_result"
    }
   ],
   "source": [
    "programs[1]"
   ]
  },
  {
   "cell_type": "code",
   "execution_count": 8,
   "id": "c9a6488a-1b63-46d1-8514-80741f489fb9",
   "metadata": {},
   "outputs": [],
   "source": [
    "from evogfuzz import EvoGFuzz"
   ]
  },
  {
   "cell_type": "code",
   "execution_count": 9,
   "id": "7b3eda48-87ba-4f23-97dd-df4451ab2b73",
   "metadata": {},
   "outputs": [],
   "source": [
    "py = programs[0]\n",
    "\n",
    "evo = EvoGFuzz(\n",
    "    grammar=py.get_grammar(),\n",
    "    inputs=py.get_initial_inputs(),\n",
    "    oracle=py.get_oracle()\n",
    ")"
   ]
  },
  {
   "cell_type": "code",
   "execution_count": null,
   "id": "3308440b-7dae-44d0-96be-2d46957e9950",
   "metadata": {},
   "outputs": [],
   "source": [
    "failing_inputs = evo.fuzz()"
   ]
  },
  {
   "cell_type": "code",
   "execution_count": null,
   "id": "49683a89-f756-43c8-9fda-d81225c10cd8",
   "metadata": {},
   "outputs": [],
   "source": []
  },
  {
   "cell_type": "code",
   "execution_count": 13,
   "id": "d8751c06-5cd3-4604-9af2-8cad0bf282cf",
   "metadata": {},
   "outputs": [
    {
     "name": "stdout",
     "output_type": "stream",
     "text": [
      "-o -d=1 -p='_' -c=int=str -O \n",
      "-o -p='s' -c=int=str -T \n",
      "-o='_._' -d=1 -p='_' -w='t' -c=bool=str \n",
      "-o -p='7t' -c=int=str -O \n",
      "-o='k._' -p='k' -c=float=str -O \n",
      "-p='_' -w='Z' -c=bool=str \n",
      "-d=7 -p='n' -w='ne' -c=bool=str \n",
      "-o -p='Z' -c=bool=str -O \n",
      "-o -d=1 -p='J' -c=bool=str -O \n",
      "-d=7 -p='e' -c=float=str \n",
      "-d=0 -p='m' -c=str=str,str=str \n",
      "-o='_._' -d=0 -p='_' -c=bool=str \n",
      "-d=0 -p='k' -c=int=str -O \n",
      "-d=0 -p='_' -c=bool=str \n",
      "-o -d=7 -p='s' -c=bool=str \n",
      "-d=7 -p='_' -c=bool=str,float=str \n",
      "-o='V_.a' -d=0 -p='n2' -c=bool=str -O \n",
      "-o -d=7 -p='_' -w='Z' -c=float=str \n",
      "-d=7 -p='n' -c=bool=str \n",
      "-o -p='2' -c=bool=str \n",
      "-d=7 -p='V' -c=bool=str -O \n",
      "-o='_.Z' -d=7 -c=bool=str -O \n",
      "-d=0 -p='n' -c=float=str,bool=str -O \n",
      "-d=7 -p='k' -c=bool=str -O \n",
      "-o -d=1 -c=str=str \n",
      "-o -p='_' -c=bool=str -O \n",
      "-o='tt.o_7n' -d=7 -p='_' -c=str=str -O -T \n",
      "-d=1 -p='_' -c=str=str \n",
      "-d=0 -p='__' -w='A_' -c=bool=str \n",
      "-o='y._' -d=0 -p='m' -c=float=str -O \n",
      "-o -p='n' -c=float=str \n",
      "-o -d=7 -p='s' -c=float=str -O \n",
      "-o -p='k' -c=float=str -O \n",
      "-o -p='j' -c=float=str -O \n",
      "-o='c' -p='_' -c=bool=str,float=str -O \n",
      "-o='_._' -p='_' -c=float=str,float=str \n",
      "-o='Z._' -d=7 -p='k' -c=bool=str \n",
      "-o -d=0 -p='J_' -c=float=str \n",
      "-o='_' -d=0 -p='_' -c=bool=str \n",
      "-d=0 -p='K' -c=bool=str \n",
      "-o -d=7 -p='_' -w='t' -c=bool=str -O -T \n",
      "-p='t' -w='n' -c=float=str,bool=str,bool=str -T \n",
      "-o -d=0 -w='Z' -c=int=str -O \n",
      "-o -d=0 -p='k' -c=bool=str -O \n",
      "-d=7 -p='_' -w='Z' -c=float=str -O \n",
      "-o -d=7 -p='k' -c=bool=str -O \n",
      "-o='_' -d=7 -p='J' -c=float=str,bool=str \n",
      "-o='_.Z' -p='k' -c=bool=str -O \n",
      "-d=1 -p='l' -w='te.e' -c=str=str,int=str,str=str -O \n",
      "-o -d=7 -p='2' -c=float=str \n",
      "-o -d=7 -p='_s' -c=bool=str,float=str,int=str \n",
      "-o -p='j' -w='a' -c=float=str \n",
      "-o='eo.t_' -p='le' -c=str=str -O -T \n",
      "-d=1 -p='e' -c=bool=str -O \n",
      "-d=1 -p='_WZE_' -c=str=str,bool=str \n",
      "-c=float=str -O \n",
      "-o -d=0 -p='_' -w='y_' -c=float=str -O \n",
      "-d=7 -p='__S' -c=bool=str \n",
      "-o='_.k' -d=7 -p='k' -c=int=str -O \n",
      "-p='_' -w='e.t' -c=str=str -T \n",
      "-o='_' -p='_' -c=float=str \n",
      "-d=7 -p='Z' -c=bool=str \n",
      "-o='S.k' -d=0 -p='_' -c=float=str -O \n",
      "-o='Z' -d=7 -p='n' -c=str=str,bool=str -O \n",
      "-o -d=1 -p='1' -c=float=str -O \n",
      "-o -d=1 -p='_' -c=float=str -O \n",
      "-o='_._' -p='_' -w='h' -c=float=str,str=str \n",
      "-d=0 -c=float=str,bool=str \n",
      "-o -d=7 -p='Z' -c=float=str \n",
      "-o -p='_' -c=float=str \n",
      "-p='k' -c=float=str -O \n",
      "-p='k' -c=bool=str \n",
      "-d=7 -p='Z' -c=float=str -O \n",
      "-o -p='_s' -c=int=str \n",
      "-o='_._' -p='_' -c=str=str -O \n",
      "-o='t.2' -d=7 -p='eot' -c=bool=str,bool=str -O -T \n",
      "-o -p='W' -c=float=str -O \n",
      "-o='_' -c=bool=str \n",
      "-p='_' -w='e' -c=bool=str \n",
      "-o='_' -p='_' -c=int=str,int=str -T \n",
      "-o -d=7 -p='e_2t' -c=int=str,float=str,float=str,bool=str,str=str -O \n",
      "-o='k.c' -d=0 -p='_' -c=str=str -O \n",
      "-o='_' -d=7 -p='_' -c=str=str \n",
      "-d=7 -p='net' -c=bool=str -O \n",
      "-o -d=0 -p='k' -c=float=str,str=str \n",
      "-o='_Z' -d=0 -p='JZs' -c=float=str \n",
      "-o='_._' -c=bool=str \n",
      "-o='_._' -d=7 -p='s' -c=int=str,int=str -T \n",
      "-o='t__.t_e' -d=7 -w='g.t' -c=bool=str -O \n",
      "-o -w='o' -c=float=str -O \n",
      "-o -d=7 -p='_' -c=int=str,float=str -O \n",
      "-o='__._' -d=0 -p='S' -c=float=str,bool=str -O \n",
      "-o='t' -d=1 -p='_t' -c=bool=str \n",
      "-d=0 -p='Z' -c=bool=str \n",
      "-d=7 -p='__' -c=str=str \n",
      "-o -d=1 -w='tseeeee.tee' -c=bool=str \n",
      "-d=7 -p='_' -c=int=str -O \n",
      "-d=7 -w='t__.e_.ts.tg' -c=int=str,bool=str -T \n",
      "-o='k._' -p='k' -c=bool=str -O \n",
      "-o -c=int=str -O \n"
     ]
    }
   ],
   "source": [
    "for inp in list(failing_inputs)[:100]:\n",
    "    print(inp)"
   ]
  },
  {
   "cell_type": "code",
   "execution_count": 14,
   "id": "ab7a6c89-719b-45d2-8d6e-b3049e0171e1",
   "metadata": {},
   "outputs": [
    {
     "data": {
      "text/plain": [
       "713"
      ]
     },
     "execution_count": 14,
     "metadata": {},
     "output_type": "execute_result"
    }
   ],
   "source": [
    "len(failing_inputs)"
   ]
  },
  {
   "cell_type": "code",
   "execution_count": 15,
   "id": "4d897531-2ddb-4c16-ab7b-80f6c4cb32a9",
   "metadata": {},
   "outputs": [
    {
     "data": {
      "text/plain": [
       "Report for EvoGFuzz\n",
       "Found 713 failure-inducing inputs (1 Exceptions):\n",
       "Tests4PySubjectException: An Exception was triggered.: 713"
      ]
     },
     "execution_count": 15,
     "metadata": {},
     "output_type": "execute_result"
    }
   ],
   "source": [
    "evo.report"
   ]
  },
  {
   "cell_type": "code",
   "execution_count": null,
   "id": "29649294-b6e9-4dbe-a2c4-39df21bf9087",
   "metadata": {},
   "outputs": [],
   "source": []
  },
  {
   "cell_type": "code",
   "execution_count": 17,
   "id": "2045a010-ce34-42db-82aa-5bfd60b1c1a1",
   "metadata": {},
   "outputs": [
    {
     "ename": "TypeError",
     "evalue": "EvoGFrame.__init__() missing 2 required positional arguments: 'oracle' and 'inputs'",
     "output_type": "error",
     "traceback": [
      "\u001b[0;31m---------------------------------------------------------------------------\u001b[0m",
      "\u001b[0;31mTypeError\u001b[0m                                 Traceback (most recent call last)",
      "Cell \u001b[0;32mIn[17], line 3\u001b[0m\n\u001b[1;32m      1\u001b[0m py \u001b[38;5;241m=\u001b[39m programs[\u001b[38;5;241m0\u001b[39m]\n\u001b[0;32m----> 3\u001b[0m evo \u001b[38;5;241m=\u001b[39m \u001b[43mEvoGFuzz\u001b[49m\u001b[43m(\u001b[49m\n\u001b[1;32m      4\u001b[0m \u001b[43m    \u001b[49m\u001b[43mpy\u001b[49m\u001b[38;5;241;43m.\u001b[39;49m\u001b[43mto_dict\u001b[49m\u001b[43m(\u001b[49m\u001b[43m)\u001b[49m\n\u001b[1;32m      5\u001b[0m \u001b[43m)\u001b[49m\n",
      "\u001b[0;31mTypeError\u001b[0m: EvoGFrame.__init__() missing 2 required positional arguments: 'oracle' and 'inputs'"
     ]
    }
   ],
   "source": [
    "py = programs[0]\n",
    "\n",
    "evo = EvoGFuzz(\n",
    "    py.to_dict()\n",
    ")"
   ]
  },
  {
   "cell_type": "code",
   "execution_count": 18,
   "id": "c7d955af-338a-4ee4-88c4-644798d4f6f6",
   "metadata": {},
   "outputs": [
    {
     "data": {
      "text/plain": [
       "{'grammar': {'<start>': ['<options>'],\n",
       "  '<options>': ['<output><depth><prefix><watch><custom_repr><overwrite><thread_info>'],\n",
       "  '<output>': ['-o<ws>', \"-o='<path>'<ws>\", ''],\n",
       "  '<depth>': ['-d=<int><ws>', ''],\n",
       "  '<prefix>': [\"-p='<str>'<ws>\", ''],\n",
       "  '<watch>': [\"-w='<variable_list>'<ws>\", ''],\n",
       "  '<custom_repr>': ['-c=<predicate_list><ws>', ''],\n",
       "  '<overwrite>': ['-O<ws>', ''],\n",
       "  '<thread_info>': ['-T<ws>', ''],\n",
       "  '<path>': ['<location>', '<location>.<str>'],\n",
       "  '<location>': ['<str>', '<path>/<str>'],\n",
       "  '<variable_list>': ['<variable>', '<variable_list>,<variable>'],\n",
       "  '<variable>': ['<name>', '<variable>.<name>'],\n",
       "  '<name>': ['<letter><chars>'],\n",
       "  '<chars>': ['', '<chars><char>'],\n",
       "  '<letter>': ['a',\n",
       "   'b',\n",
       "   'c',\n",
       "   'd',\n",
       "   'e',\n",
       "   'f',\n",
       "   'g',\n",
       "   'h',\n",
       "   'i',\n",
       "   'j',\n",
       "   'k',\n",
       "   'l',\n",
       "   'm',\n",
       "   'n',\n",
       "   'o',\n",
       "   'p',\n",
       "   'q',\n",
       "   'r',\n",
       "   's',\n",
       "   't',\n",
       "   'u',\n",
       "   'v',\n",
       "   'w',\n",
       "   'x',\n",
       "   'y',\n",
       "   'z',\n",
       "   'A',\n",
       "   'B',\n",
       "   'C',\n",
       "   'D',\n",
       "   'E',\n",
       "   'F',\n",
       "   'G',\n",
       "   'H',\n",
       "   'I',\n",
       "   'J',\n",
       "   'K',\n",
       "   'L',\n",
       "   'M',\n",
       "   'N',\n",
       "   'O',\n",
       "   'P',\n",
       "   'Q',\n",
       "   'R',\n",
       "   'S',\n",
       "   'T',\n",
       "   'U',\n",
       "   'V',\n",
       "   'W',\n",
       "   'X',\n",
       "   'Y',\n",
       "   'Z'],\n",
       "  '<digit>': ['0', '1', '2', '3', '4', '5', '6', '7', '8', '9'],\n",
       "  '<char>': ['<letter>', '<digit>', '_'],\n",
       "  '<int>': ['<nonzero><digits>', '0'],\n",
       "  '<digits>': ['', '<digits><digit>'],\n",
       "  '<nonzero>': ['1', '2', '3', '4', '5', '6', '7', '8', '9'],\n",
       "  '<str>': ['<char><chars>'],\n",
       "  '<predicate_list>': ['<predicate>', '<predicate_list>,<predicate>'],\n",
       "  '<predicate>': ['<p_function>=<t_function>'],\n",
       "  '<p_function>': ['int', 'str', 'float', 'bool'],\n",
       "  '<t_function>': ['repr', 'str', 'int'],\n",
       "  '<ws>': [' ']},\n",
       " 'oracle': <function debugging_benchmark.tests4py_helper.tests4py_api.construct_oracle.<locals>.oracle(inp: Union[str, debugging_framework.input.Input]) -> Tuple[debugging_framework.oracle.OracleResult, Optional[Exception]]>,\n",
       " 'initial_inputs': [\"-o='test.log' -c=int=str \",\n",
       "  \"-d=7 -p='test' -w='e.nest2' -c=bool=str,int=str -O \",\n",
       "  \"-o -d=7 -p='1' -w='e.nest2' -c=bool=str,int=str -T \",\n",
       "  \"-o='test7.log' -d=1 -p='test' \"]}"
      ]
     },
     "execution_count": 18,
     "metadata": {},
     "output_type": "execute_result"
    }
   ],
   "source": [
    "py.to_dict()"
   ]
  },
  {
   "cell_type": "code",
   "execution_count": null,
   "id": "f11f7f3e-cb7a-46e8-a3aa-728ca33a212f",
   "metadata": {},
   "outputs": [],
   "source": []
  }
 ],
 "metadata": {
  "kernelspec": {
   "display_name": "Python 3 (ipykernel)",
   "language": "python",
   "name": "python3"
  },
  "language_info": {
   "codemirror_mode": {
    "name": "ipython",
    "version": 3
   },
   "file_extension": ".py",
   "mimetype": "text/x-python",
   "name": "python",
   "nbconvert_exporter": "python",
   "pygments_lexer": "ipython3",
   "version": "3.10.9"
  }
 },
 "nbformat": 4,
 "nbformat_minor": 5
}
